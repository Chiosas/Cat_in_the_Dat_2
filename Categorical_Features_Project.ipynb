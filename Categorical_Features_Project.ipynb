{
  "nbformat": 4,
  "nbformat_minor": 0,
  "metadata": {
    "colab": {
      "name": "Categorical Features - Project.ipynb",
      "provenance": [],
      "collapsed_sections": [],
      "toc_visible": true,
      "machine_shape": "hm",
      "authorship_tag": "ABX9TyPh3zt2g+RiOBdsir8aGFRL",
      "include_colab_link": true
    },
    "kernelspec": {
      "name": "python3",
      "display_name": "Python 3"
    }
  },
  "cells": [
    {
      "cell_type": "markdown",
      "metadata": {
        "id": "view-in-github",
        "colab_type": "text"
      },
      "source": [
        "<a href=\"https://colab.research.google.com/github/Chiosas/Cat_in_the_Dat_2/blob/master/Categorical_Features_Project.ipynb\" target=\"_parent\"><img src=\"https://colab.research.google.com/assets/colab-badge.svg\" alt=\"Open In Colab\"/></a>"
      ]
    },
    {
      "cell_type": "markdown",
      "metadata": {
        "id": "cJbrmwy2zCHH",
        "colab_type": "text"
      },
      "source": [
        "## ***Initial Setup***"
      ]
    },
    {
      "cell_type": "markdown",
      "metadata": {
        "id": "HKEb6FoTzELZ",
        "colab_type": "text"
      },
      "source": [
        "### ***Environment Setup***"
      ]
    },
    {
      "cell_type": "code",
      "metadata": {
        "id": "9H47O4DayKGK",
        "colab_type": "code",
        "colab": {}
      },
      "source": [
        "import os\n",
        "from pathlib import Path"
      ],
      "execution_count": 0,
      "outputs": []
    },
    {
      "cell_type": "code",
      "metadata": {
        "id": "3ukzX_4IzYTB",
        "colab_type": "code",
        "colab": {}
      },
      "source": [
        "dir_name = 'project'\n",
        "DATA_DIR = Path(f'data/{dir_name}')\n",
        "MODEL_DIR = Path(f'model/{dir_name}')"
      ],
      "execution_count": 0,
      "outputs": []
    },
    {
      "cell_type": "code",
      "metadata": {
        "id": "d7GZyaTWzheo",
        "colab_type": "code",
        "colab": {}
      },
      "source": [
        "try:\n",
        "    import google.colab\n",
        "    IN_COLAB = True\n",
        "except:\n",
        "    IN_COLAB = False\n",
        "\n",
        "FIRST_RUN = not os.path.exists(str(MODEL_DIR))"
      ],
      "execution_count": 0,
      "outputs": []
    },
    {
      "cell_type": "code",
      "metadata": {
        "id": "AT7qphujzxeG",
        "colab_type": "code",
        "colab": {}
      },
      "source": [
        "if not IN_COLAB:\n",
        "    os.environ['CUDA_DEVICE_ORDER']='PCI_BUS_ID'\n",
        "    os.environ['CUDA_VISIBLE_DEVICES']='0'\n",
        "\n",
        "if FIRST_RUN:\n",
        "    os.makedirs(MODEL_DIR, exist_ok=True)\n",
        "    os.makedirs(DATA_DIR, exist_ok=True)"
      ],
      "execution_count": 0,
      "outputs": []
    },
    {
      "cell_type": "code",
      "metadata": {
        "id": "WoR65kPqz4Lx",
        "colab_type": "code",
        "colab": {}
      },
      "source": [
        "if IN_COLAB and FIRST_RUN:\n",
        "    !pip install -q -U --no-deps tensorflow-addons~=0.6\n",
        "    # pass"
      ],
      "execution_count": 0,
      "outputs": []
    },
    {
      "cell_type": "markdown",
      "metadata": {
        "id": "-5Uz1o_89dTC",
        "colab_type": "text"
      },
      "source": [
        "### ***Kaggle Setup***"
      ]
    },
    {
      "cell_type": "code",
      "metadata": {
        "id": "Wwb3MrTT9ith",
        "colab_type": "code",
        "colab": {}
      },
      "source": [
        "def setup_kaggle():\n",
        "    x = !ls kaggle.json\n",
        "    assert x == ['kaggle.json'], 'Upload kaggle.json'\n",
        "    !mkdir /root/.kaggle\n",
        "    !mv kaggle.json /root/.kaggle\n",
        "    !chmod 600 /root/.kaggle/kaggle.json"
      ],
      "execution_count": 0,
      "outputs": []
    },
    {
      "cell_type": "code",
      "metadata": {
        "id": "zB3QJJaj9n7o",
        "colab_type": "code",
        "colab": {}
      },
      "source": [
        "# Make sure you've uploaded 'kaggle.json' file into Colab\n",
        "if IN_COLAB and FIRST_RUN:\n",
        "    setup_kaggle()"
      ],
      "execution_count": 0,
      "outputs": []
    },
    {
      "cell_type": "code",
      "metadata": {
        "id": "9GNrg06D9rwD",
        "colab_type": "code",
        "colab": {}
      },
      "source": [
        "import kaggle"
      ],
      "execution_count": 0,
      "outputs": []
    },
    {
      "cell_type": "code",
      "metadata": {
        "id": "5E1pdfss9waX",
        "colab_type": "code",
        "colab": {}
      },
      "source": [
        "competition_name = 'cat-in-the-dat-ii'\n",
        "\n",
        "if IN_COLAB and FIRST_RUN:\n",
        "    kaggle.api.authenticate()\n",
        "    kaggle.api.competition_download_files(competition=competition_name, path=DATA_DIR)"
      ],
      "execution_count": 0,
      "outputs": []
    },
    {
      "cell_type": "code",
      "metadata": {
        "id": "KKrkoenEHKEk",
        "colab_type": "code",
        "colab": {}
      },
      "source": [
        "import zipfile\n",
        "\n",
        "zip_name = f'{competition_name}.zip'\n",
        "if IN_COLAB and FIRST_RUN:\n",
        "    with zipfile.ZipFile(DATA_DIR/zip_name, 'r') as zip_ref:\n",
        "        zip_ref.extractall(DATA_DIR)"
      ],
      "execution_count": 0,
      "outputs": []
    },
    {
      "cell_type": "markdown",
      "metadata": {
        "id": "kU67nir6EPtf",
        "colab_type": "text"
      },
      "source": [
        "### ***Importing Dependencies***"
      ]
    },
    {
      "cell_type": "code",
      "metadata": {
        "id": "MoX5R8-4_aiY",
        "colab_type": "code",
        "colab": {}
      },
      "source": [
        "try:\n",
        "    # %tensorflow_version only exists in Colab.\n",
        "    %tensorflow_version 2.x\n",
        "except Exception:\n",
        "    pass\n",
        "\n",
        "import tensorflow as tf\n",
        "from tensorflow import keras"
      ],
      "execution_count": 0,
      "outputs": []
    },
    {
      "cell_type": "code",
      "metadata": {
        "id": "k7eG9yLiErYT",
        "colab_type": "code",
        "outputId": "d3defd5f-d44d-453c-ffbe-207799694777",
        "colab": {
          "base_uri": "https://localhost:8080/",
          "height": 34
        }
      },
      "source": [
        "tf.__version__"
      ],
      "execution_count": 12,
      "outputs": [
        {
          "output_type": "execute_result",
          "data": {
            "text/plain": [
              "'2.2.0'"
            ]
          },
          "metadata": {
            "tags": []
          },
          "execution_count": 12
        }
      ]
    },
    {
      "cell_type": "code",
      "metadata": {
        "id": "vSv97vc2EWyA",
        "colab_type": "code",
        "outputId": "9dcf16a0-a93f-482b-c541-e6a0d123d111",
        "colab": {
          "base_uri": "https://localhost:8080/",
          "height": 51
        }
      },
      "source": [
        "# Core libraries\n",
        "import pandas as pd\n",
        "import numpy as np\n",
        "import matplotlib.pyplot as plt\n",
        "import seaborn as sns\n",
        "\n",
        "# Classic ML libraries\n",
        "from sklearn.model_selection import train_test_split\n",
        "from sklearn.preprocessing import OneHotEncoder, OrdinalEncoder, LabelEncoder\n",
        "from sklearn.utils.class_weight import compute_class_weight\n",
        "from sklearn.utils import resample\n",
        "\n",
        "from sklearn.metrics import accuracy_score, f1_score, precision_score, roc_auc_score\n",
        "from sklearn.metrics import classification_report, confusion_matrix, roc_curve, auc\n",
        "\n",
        "from sklearn.linear_model import LogisticRegression\n",
        "from sklearn.ensemble import RandomForestClassifier\n",
        "\n",
        "# Helper libraries\n",
        "import pickle\n",
        "import joblib"
      ],
      "execution_count": 13,
      "outputs": [
        {
          "output_type": "stream",
          "text": [
            "/usr/local/lib/python3.6/dist-packages/statsmodels/tools/_testing.py:19: FutureWarning: pandas.util.testing is deprecated. Use the functions in the public API at pandas.testing instead.\n",
            "  import pandas.util.testing as tm\n"
          ],
          "name": "stderr"
        }
      ]
    },
    {
      "cell_type": "code",
      "metadata": {
        "id": "v42mL-GsEnuO",
        "colab_type": "code",
        "colab": {}
      },
      "source": [
        "if FIRST_RUN:\n",
        "    exit()"
      ],
      "execution_count": 0,
      "outputs": []
    },
    {
      "cell_type": "code",
      "metadata": {
        "id": "IEgtWIRFEuxY",
        "colab_type": "code",
        "colab": {}
      },
      "source": [
        "%matplotlib inline"
      ],
      "execution_count": 0,
      "outputs": []
    },
    {
      "cell_type": "markdown",
      "metadata": {
        "id": "_5CqqhhKIZpX",
        "colab_type": "text"
      },
      "source": [
        "## ***Data Description***"
      ]
    },
    {
      "cell_type": "markdown",
      "metadata": {
        "id": "cSmJhqrsJV-G",
        "colab_type": "text"
      },
      "source": [
        "### ***Content***\n",
        "\n",
        "![Categories](https://2.bp.blogspot.com/-gNMIOHboLMo/T1Dlp5pi3uI/AAAAAAAAAVc/80O8Ao9rrfQ/s1600/Categories+Excel.jpg)\n",
        "\n",
        "In this [competition](https://www.kaggle.com/c/cat-in-the-dat-ii), we will be predicting the probability [0, 1] of a binary target column.\n",
        "\n",
        "The data contains:\n",
        "- binary features (bin_*),\n",
        "- nominal features (nom_*),\n",
        "- ordinal features (ord_*),\n",
        "- potentially cyclical - day (of the week) and month features.\n",
        "\n",
        "The string ordinal features ord_{3-5} are lexically ordered according to string.ascii_letters.\n",
        "\n",
        "Since the purpose of this competition is to explore various encoding strategies, the data for this challenge has missing values and feature interactions.\n",
        "\n",
        "### ***Files***\n",
        "- *train.csv* - the training set,\n",
        "- *test.csv* - the test set; you must make predictions against this data,\n",
        "- *sample_submission.csv* - a sample submission file in the correct format.\n",
        "\n",
        "### ***Evaluation***\n",
        "Submissions are evaluated on area under the ROC curve between the predicted probability and the observed target."
      ]
    },
    {
      "cell_type": "code",
      "metadata": {
        "id": "webVVQB-IY6P",
        "colab_type": "code",
        "colab": {}
      },
      "source": [
        "# Reading the data from the file\n",
        "raw_data = pd.read_csv(DATA_DIR/'train.csv', low_memory=False)"
      ],
      "execution_count": 0,
      "outputs": []
    },
    {
      "cell_type": "markdown",
      "metadata": {
        "id": "_Wz4tpuVk01K",
        "colab_type": "text"
      },
      "source": [
        "### ***Data Exploration***"
      ]
    },
    {
      "cell_type": "code",
      "metadata": {
        "id": "-FB_NxIHiDhY",
        "colab_type": "code",
        "outputId": "75c0eca6-84fb-4caa-acd9-7b4c4684decd",
        "colab": {
          "base_uri": "https://localhost:8080/",
          "height": 824
        }
      },
      "source": [
        "raw_data.sample(10).T"
      ],
      "execution_count": 17,
      "outputs": [
        {
          "output_type": "execute_result",
          "data": {
            "text/html": [
              "<div>\n",
              "<style scoped>\n",
              "    .dataframe tbody tr th:only-of-type {\n",
              "        vertical-align: middle;\n",
              "    }\n",
              "\n",
              "    .dataframe tbody tr th {\n",
              "        vertical-align: top;\n",
              "    }\n",
              "\n",
              "    .dataframe thead th {\n",
              "        text-align: right;\n",
              "    }\n",
              "</style>\n",
              "<table border=\"1\" class=\"dataframe\">\n",
              "  <thead>\n",
              "    <tr style=\"text-align: right;\">\n",
              "      <th></th>\n",
              "      <th>456472</th>\n",
              "      <th>442792</th>\n",
              "      <th>58524</th>\n",
              "      <th>215489</th>\n",
              "      <th>179896</th>\n",
              "      <th>419136</th>\n",
              "      <th>547578</th>\n",
              "      <th>351015</th>\n",
              "      <th>203841</th>\n",
              "      <th>196749</th>\n",
              "    </tr>\n",
              "  </thead>\n",
              "  <tbody>\n",
              "    <tr>\n",
              "      <th>id</th>\n",
              "      <td>456472</td>\n",
              "      <td>442792</td>\n",
              "      <td>58524</td>\n",
              "      <td>215489</td>\n",
              "      <td>179896</td>\n",
              "      <td>419136</td>\n",
              "      <td>547578</td>\n",
              "      <td>351015</td>\n",
              "      <td>203841</td>\n",
              "      <td>196749</td>\n",
              "    </tr>\n",
              "    <tr>\n",
              "      <th>bin_0</th>\n",
              "      <td>1</td>\n",
              "      <td>0</td>\n",
              "      <td>0</td>\n",
              "      <td>0</td>\n",
              "      <td>0</td>\n",
              "      <td>0</td>\n",
              "      <td>0</td>\n",
              "      <td>0</td>\n",
              "      <td>0</td>\n",
              "      <td>0</td>\n",
              "    </tr>\n",
              "    <tr>\n",
              "      <th>bin_1</th>\n",
              "      <td>0</td>\n",
              "      <td>0</td>\n",
              "      <td>0</td>\n",
              "      <td>0</td>\n",
              "      <td>0</td>\n",
              "      <td>1</td>\n",
              "      <td>0</td>\n",
              "      <td>0</td>\n",
              "      <td>0</td>\n",
              "      <td>0</td>\n",
              "    </tr>\n",
              "    <tr>\n",
              "      <th>bin_2</th>\n",
              "      <td>0</td>\n",
              "      <td>0</td>\n",
              "      <td>0</td>\n",
              "      <td>0</td>\n",
              "      <td>0</td>\n",
              "      <td>0</td>\n",
              "      <td>0</td>\n",
              "      <td>0</td>\n",
              "      <td>0</td>\n",
              "      <td>0</td>\n",
              "    </tr>\n",
              "    <tr>\n",
              "      <th>bin_3</th>\n",
              "      <td>F</td>\n",
              "      <td>T</td>\n",
              "      <td>F</td>\n",
              "      <td>T</td>\n",
              "      <td>F</td>\n",
              "      <td>F</td>\n",
              "      <td>F</td>\n",
              "      <td>T</td>\n",
              "      <td>T</td>\n",
              "      <td>T</td>\n",
              "    </tr>\n",
              "    <tr>\n",
              "      <th>bin_4</th>\n",
              "      <td>N</td>\n",
              "      <td>N</td>\n",
              "      <td>N</td>\n",
              "      <td>N</td>\n",
              "      <td>N</td>\n",
              "      <td>N</td>\n",
              "      <td>Y</td>\n",
              "      <td>N</td>\n",
              "      <td>Y</td>\n",
              "      <td>Y</td>\n",
              "    </tr>\n",
              "    <tr>\n",
              "      <th>nom_0</th>\n",
              "      <td>Red</td>\n",
              "      <td>Green</td>\n",
              "      <td>Blue</td>\n",
              "      <td>Blue</td>\n",
              "      <td>Red</td>\n",
              "      <td>Blue</td>\n",
              "      <td>Red</td>\n",
              "      <td>Blue</td>\n",
              "      <td>Red</td>\n",
              "      <td>Green</td>\n",
              "    </tr>\n",
              "    <tr>\n",
              "      <th>nom_1</th>\n",
              "      <td>Trapezoid</td>\n",
              "      <td>Triangle</td>\n",
              "      <td>Circle</td>\n",
              "      <td>Trapezoid</td>\n",
              "      <td>Triangle</td>\n",
              "      <td>Polygon</td>\n",
              "      <td>Triangle</td>\n",
              "      <td>Polygon</td>\n",
              "      <td>Circle</td>\n",
              "      <td>Trapezoid</td>\n",
              "    </tr>\n",
              "    <tr>\n",
              "      <th>nom_2</th>\n",
              "      <td>Lion</td>\n",
              "      <td>Lion</td>\n",
              "      <td>Axolotl</td>\n",
              "      <td>Cat</td>\n",
              "      <td>Axolotl</td>\n",
              "      <td>Dog</td>\n",
              "      <td>NaN</td>\n",
              "      <td>Hamster</td>\n",
              "      <td>Hamster</td>\n",
              "      <td>Hamster</td>\n",
              "    </tr>\n",
              "    <tr>\n",
              "      <th>nom_3</th>\n",
              "      <td>Costa Rica</td>\n",
              "      <td>Canada</td>\n",
              "      <td>Costa Rica</td>\n",
              "      <td>Russia</td>\n",
              "      <td>India</td>\n",
              "      <td>India</td>\n",
              "      <td>Russia</td>\n",
              "      <td>Costa Rica</td>\n",
              "      <td>Russia</td>\n",
              "      <td>India</td>\n",
              "    </tr>\n",
              "    <tr>\n",
              "      <th>nom_4</th>\n",
              "      <td>Bassoon</td>\n",
              "      <td>NaN</td>\n",
              "      <td>Theremin</td>\n",
              "      <td>Bassoon</td>\n",
              "      <td>Oboe</td>\n",
              "      <td>Theremin</td>\n",
              "      <td>Bassoon</td>\n",
              "      <td>Theremin</td>\n",
              "      <td>Theremin</td>\n",
              "      <td>Bassoon</td>\n",
              "    </tr>\n",
              "    <tr>\n",
              "      <th>nom_5</th>\n",
              "      <td>ed7e3cf1c</td>\n",
              "      <td>820abde38</td>\n",
              "      <td>9228376ec</td>\n",
              "      <td>67cd387f9</td>\n",
              "      <td>106ec5883</td>\n",
              "      <td>4fc8ac2d3</td>\n",
              "      <td>a27cb19e9</td>\n",
              "      <td>ee3971a15</td>\n",
              "      <td>6a32c7915</td>\n",
              "      <td>d68fdb517</td>\n",
              "    </tr>\n",
              "    <tr>\n",
              "      <th>nom_6</th>\n",
              "      <td>6e3a13ee1</td>\n",
              "      <td>560a09809</td>\n",
              "      <td>fd0ba1fa9</td>\n",
              "      <td>db5fc0012</td>\n",
              "      <td>71bb958e3</td>\n",
              "      <td>a3b117a1e</td>\n",
              "      <td>a2478546e</td>\n",
              "      <td>238ee77d2</td>\n",
              "      <td>NaN</td>\n",
              "      <td>fad966f1f</td>\n",
              "    </tr>\n",
              "    <tr>\n",
              "      <th>nom_7</th>\n",
              "      <td>b0ab8b134</td>\n",
              "      <td>567934479</td>\n",
              "      <td>5d5b262b1</td>\n",
              "      <td>84b44fe42</td>\n",
              "      <td>3f2e87b23</td>\n",
              "      <td>01103c3e4</td>\n",
              "      <td>41afb892d</td>\n",
              "      <td>623908296</td>\n",
              "      <td>b2d0012ea</td>\n",
              "      <td>0304a1b60</td>\n",
              "    </tr>\n",
              "    <tr>\n",
              "      <th>nom_8</th>\n",
              "      <td>bccfd92a2</td>\n",
              "      <td>22e0a764d</td>\n",
              "      <td>a8009baf5</td>\n",
              "      <td>b10ef207b</td>\n",
              "      <td>5c1c7fa53</td>\n",
              "      <td>a5eef5d8b</td>\n",
              "      <td>74a092964</td>\n",
              "      <td>007bff22a</td>\n",
              "      <td>634c43a77</td>\n",
              "      <td>8109ba950</td>\n",
              "    </tr>\n",
              "    <tr>\n",
              "      <th>nom_9</th>\n",
              "      <td>1f0fcc517</td>\n",
              "      <td>a728a9e22</td>\n",
              "      <td>059effe21</td>\n",
              "      <td>3eec8128d</td>\n",
              "      <td>3bd569e8d</td>\n",
              "      <td>b593305f7</td>\n",
              "      <td>7dceaa3e0</td>\n",
              "      <td>dbd2b7e44</td>\n",
              "      <td>268da07c3</td>\n",
              "      <td>254e988c9</td>\n",
              "    </tr>\n",
              "    <tr>\n",
              "      <th>ord_0</th>\n",
              "      <td>2</td>\n",
              "      <td>3</td>\n",
              "      <td>2</td>\n",
              "      <td>2</td>\n",
              "      <td>2</td>\n",
              "      <td>2</td>\n",
              "      <td>2</td>\n",
              "      <td>3</td>\n",
              "      <td>1</td>\n",
              "      <td>3</td>\n",
              "    </tr>\n",
              "    <tr>\n",
              "      <th>ord_1</th>\n",
              "      <td>Novice</td>\n",
              "      <td>Contributor</td>\n",
              "      <td>Expert</td>\n",
              "      <td>Contributor</td>\n",
              "      <td>Novice</td>\n",
              "      <td>Expert</td>\n",
              "      <td>Novice</td>\n",
              "      <td>Novice</td>\n",
              "      <td>Contributor</td>\n",
              "      <td>Novice</td>\n",
              "    </tr>\n",
              "    <tr>\n",
              "      <th>ord_2</th>\n",
              "      <td>Boiling Hot</td>\n",
              "      <td>Freezing</td>\n",
              "      <td>Lava Hot</td>\n",
              "      <td>Freezing</td>\n",
              "      <td>Cold</td>\n",
              "      <td>Lava Hot</td>\n",
              "      <td>Lava Hot</td>\n",
              "      <td>Lava Hot</td>\n",
              "      <td>Freezing</td>\n",
              "      <td>Lava Hot</td>\n",
              "    </tr>\n",
              "    <tr>\n",
              "      <th>ord_3</th>\n",
              "      <td>a</td>\n",
              "      <td>h</td>\n",
              "      <td>o</td>\n",
              "      <td>n</td>\n",
              "      <td>c</td>\n",
              "      <td>b</td>\n",
              "      <td>c</td>\n",
              "      <td>i</td>\n",
              "      <td>b</td>\n",
              "      <td>m</td>\n",
              "    </tr>\n",
              "    <tr>\n",
              "      <th>ord_4</th>\n",
              "      <td>H</td>\n",
              "      <td>I</td>\n",
              "      <td>Y</td>\n",
              "      <td>D</td>\n",
              "      <td>U</td>\n",
              "      <td>P</td>\n",
              "      <td>A</td>\n",
              "      <td>U</td>\n",
              "      <td>B</td>\n",
              "      <td>B</td>\n",
              "    </tr>\n",
              "    <tr>\n",
              "      <th>ord_5</th>\n",
              "      <td>hG</td>\n",
              "      <td>fV</td>\n",
              "      <td>OM</td>\n",
              "      <td>hG</td>\n",
              "      <td>Oe</td>\n",
              "      <td>gc</td>\n",
              "      <td>Ay</td>\n",
              "      <td>Sz</td>\n",
              "      <td>oJ</td>\n",
              "      <td>lS</td>\n",
              "    </tr>\n",
              "    <tr>\n",
              "      <th>day</th>\n",
              "      <td>3</td>\n",
              "      <td>1</td>\n",
              "      <td>7</td>\n",
              "      <td>5</td>\n",
              "      <td>3</td>\n",
              "      <td>6</td>\n",
              "      <td>5</td>\n",
              "      <td>1</td>\n",
              "      <td>2</td>\n",
              "      <td>5</td>\n",
              "    </tr>\n",
              "    <tr>\n",
              "      <th>month</th>\n",
              "      <td>5</td>\n",
              "      <td>6</td>\n",
              "      <td>8</td>\n",
              "      <td>8</td>\n",
              "      <td>6</td>\n",
              "      <td>11</td>\n",
              "      <td>3</td>\n",
              "      <td>12</td>\n",
              "      <td>5</td>\n",
              "      <td>2</td>\n",
              "    </tr>\n",
              "    <tr>\n",
              "      <th>target</th>\n",
              "      <td>0</td>\n",
              "      <td>0</td>\n",
              "      <td>1</td>\n",
              "      <td>0</td>\n",
              "      <td>0</td>\n",
              "      <td>1</td>\n",
              "      <td>0</td>\n",
              "      <td>1</td>\n",
              "      <td>0</td>\n",
              "      <td>0</td>\n",
              "    </tr>\n",
              "  </tbody>\n",
              "</table>\n",
              "</div>"
            ],
            "text/plain": [
              "             456472       442792  ...       203841     196749\n",
              "id           456472       442792  ...       203841     196749\n",
              "bin_0             1            0  ...            0          0\n",
              "bin_1             0            0  ...            0          0\n",
              "bin_2             0            0  ...            0          0\n",
              "bin_3             F            T  ...            T          T\n",
              "bin_4             N            N  ...            Y          Y\n",
              "nom_0           Red        Green  ...          Red      Green\n",
              "nom_1     Trapezoid     Triangle  ...       Circle  Trapezoid\n",
              "nom_2          Lion         Lion  ...      Hamster    Hamster\n",
              "nom_3    Costa Rica       Canada  ...       Russia      India\n",
              "nom_4       Bassoon          NaN  ...     Theremin    Bassoon\n",
              "nom_5     ed7e3cf1c    820abde38  ...    6a32c7915  d68fdb517\n",
              "nom_6     6e3a13ee1    560a09809  ...          NaN  fad966f1f\n",
              "nom_7     b0ab8b134    567934479  ...    b2d0012ea  0304a1b60\n",
              "nom_8     bccfd92a2    22e0a764d  ...    634c43a77  8109ba950\n",
              "nom_9     1f0fcc517    a728a9e22  ...    268da07c3  254e988c9\n",
              "ord_0             2            3  ...            1          3\n",
              "ord_1        Novice  Contributor  ...  Contributor     Novice\n",
              "ord_2   Boiling Hot     Freezing  ...     Freezing   Lava Hot\n",
              "ord_3             a            h  ...            b          m\n",
              "ord_4             H            I  ...            B          B\n",
              "ord_5            hG           fV  ...           oJ         lS\n",
              "day               3            1  ...            2          5\n",
              "month             5            6  ...            5          2\n",
              "target            0            0  ...            0          0\n",
              "\n",
              "[25 rows x 10 columns]"
            ]
          },
          "metadata": {
            "tags": []
          },
          "execution_count": 17
        }
      ]
    },
    {
      "cell_type": "code",
      "metadata": {
        "id": "CIWhnHzPiiv3",
        "colab_type": "code",
        "outputId": "8cabc100-07c0-4a54-c8f1-732a06dc943c",
        "colab": {
          "base_uri": "https://localhost:8080/",
          "height": 561
        }
      },
      "source": [
        "raw_data.info()"
      ],
      "execution_count": 18,
      "outputs": [
        {
          "output_type": "stream",
          "text": [
            "<class 'pandas.core.frame.DataFrame'>\n",
            "RangeIndex: 600000 entries, 0 to 599999\n",
            "Data columns (total 25 columns):\n",
            " #   Column  Non-Null Count   Dtype  \n",
            "---  ------  --------------   -----  \n",
            " 0   id      600000 non-null  int64  \n",
            " 1   bin_0   582106 non-null  float64\n",
            " 2   bin_1   581997 non-null  float64\n",
            " 3   bin_2   582070 non-null  float64\n",
            " 4   bin_3   581986 non-null  object \n",
            " 5   bin_4   581953 non-null  object \n",
            " 6   nom_0   581748 non-null  object \n",
            " 7   nom_1   581844 non-null  object \n",
            " 8   nom_2   581965 non-null  object \n",
            " 9   nom_3   581879 non-null  object \n",
            " 10  nom_4   581965 non-null  object \n",
            " 11  nom_5   582222 non-null  object \n",
            " 12  nom_6   581869 non-null  object \n",
            " 13  nom_7   581997 non-null  object \n",
            " 14  nom_8   582245 non-null  object \n",
            " 15  nom_9   581927 non-null  object \n",
            " 16  ord_0   581712 non-null  float64\n",
            " 17  ord_1   581959 non-null  object \n",
            " 18  ord_2   581925 non-null  object \n",
            " 19  ord_3   582084 non-null  object \n",
            " 20  ord_4   582070 non-null  object \n",
            " 21  ord_5   582287 non-null  object \n",
            " 22  day     582048 non-null  float64\n",
            " 23  month   582012 non-null  float64\n",
            " 24  target  600000 non-null  int64  \n",
            "dtypes: float64(6), int64(2), object(17)\n",
            "memory usage: 114.4+ MB\n"
          ],
          "name": "stdout"
        }
      ]
    },
    {
      "cell_type": "code",
      "metadata": {
        "id": "xGHLiHHyjlSK",
        "colab_type": "code",
        "outputId": "32687529-2258-42a6-c5a2-2f86be236b68",
        "colab": {
          "base_uri": "https://localhost:8080/",
          "height": 824
        }
      },
      "source": [
        "raw_data.describe(include='all').T"
      ],
      "execution_count": 19,
      "outputs": [
        {
          "output_type": "execute_result",
          "data": {
            "text/html": [
              "<div>\n",
              "<style scoped>\n",
              "    .dataframe tbody tr th:only-of-type {\n",
              "        vertical-align: middle;\n",
              "    }\n",
              "\n",
              "    .dataframe tbody tr th {\n",
              "        vertical-align: top;\n",
              "    }\n",
              "\n",
              "    .dataframe thead th {\n",
              "        text-align: right;\n",
              "    }\n",
              "</style>\n",
              "<table border=\"1\" class=\"dataframe\">\n",
              "  <thead>\n",
              "    <tr style=\"text-align: right;\">\n",
              "      <th></th>\n",
              "      <th>count</th>\n",
              "      <th>unique</th>\n",
              "      <th>top</th>\n",
              "      <th>freq</th>\n",
              "      <th>mean</th>\n",
              "      <th>std</th>\n",
              "      <th>min</th>\n",
              "      <th>25%</th>\n",
              "      <th>50%</th>\n",
              "      <th>75%</th>\n",
              "      <th>max</th>\n",
              "    </tr>\n",
              "  </thead>\n",
              "  <tbody>\n",
              "    <tr>\n",
              "      <th>id</th>\n",
              "      <td>600000</td>\n",
              "      <td>NaN</td>\n",
              "      <td>NaN</td>\n",
              "      <td>NaN</td>\n",
              "      <td>300000</td>\n",
              "      <td>173205</td>\n",
              "      <td>0</td>\n",
              "      <td>150000</td>\n",
              "      <td>300000</td>\n",
              "      <td>449999</td>\n",
              "      <td>599999</td>\n",
              "    </tr>\n",
              "    <tr>\n",
              "      <th>bin_0</th>\n",
              "      <td>582106</td>\n",
              "      <td>NaN</td>\n",
              "      <td>NaN</td>\n",
              "      <td>NaN</td>\n",
              "      <td>0.0923011</td>\n",
              "      <td>0.289451</td>\n",
              "      <td>0</td>\n",
              "      <td>0</td>\n",
              "      <td>0</td>\n",
              "      <td>0</td>\n",
              "      <td>1</td>\n",
              "    </tr>\n",
              "    <tr>\n",
              "      <th>bin_1</th>\n",
              "      <td>581997</td>\n",
              "      <td>NaN</td>\n",
              "      <td>NaN</td>\n",
              "      <td>NaN</td>\n",
              "      <td>0.185532</td>\n",
              "      <td>0.388729</td>\n",
              "      <td>0</td>\n",
              "      <td>0</td>\n",
              "      <td>0</td>\n",
              "      <td>0</td>\n",
              "      <td>1</td>\n",
              "    </tr>\n",
              "    <tr>\n",
              "      <th>bin_2</th>\n",
              "      <td>582070</td>\n",
              "      <td>NaN</td>\n",
              "      <td>NaN</td>\n",
              "      <td>NaN</td>\n",
              "      <td>0.278704</td>\n",
              "      <td>0.448362</td>\n",
              "      <td>0</td>\n",
              "      <td>0</td>\n",
              "      <td>0</td>\n",
              "      <td>1</td>\n",
              "      <td>1</td>\n",
              "    </tr>\n",
              "    <tr>\n",
              "      <th>bin_3</th>\n",
              "      <td>581986</td>\n",
              "      <td>2</td>\n",
              "      <td>F</td>\n",
              "      <td>366212</td>\n",
              "      <td>NaN</td>\n",
              "      <td>NaN</td>\n",
              "      <td>NaN</td>\n",
              "      <td>NaN</td>\n",
              "      <td>NaN</td>\n",
              "      <td>NaN</td>\n",
              "      <td>NaN</td>\n",
              "    </tr>\n",
              "    <tr>\n",
              "      <th>bin_4</th>\n",
              "      <td>581953</td>\n",
              "      <td>2</td>\n",
              "      <td>N</td>\n",
              "      <td>312344</td>\n",
              "      <td>NaN</td>\n",
              "      <td>NaN</td>\n",
              "      <td>NaN</td>\n",
              "      <td>NaN</td>\n",
              "      <td>NaN</td>\n",
              "      <td>NaN</td>\n",
              "      <td>NaN</td>\n",
              "    </tr>\n",
              "    <tr>\n",
              "      <th>nom_0</th>\n",
              "      <td>581748</td>\n",
              "      <td>3</td>\n",
              "      <td>Red</td>\n",
              "      <td>323286</td>\n",
              "      <td>NaN</td>\n",
              "      <td>NaN</td>\n",
              "      <td>NaN</td>\n",
              "      <td>NaN</td>\n",
              "      <td>NaN</td>\n",
              "      <td>NaN</td>\n",
              "      <td>NaN</td>\n",
              "    </tr>\n",
              "    <tr>\n",
              "      <th>nom_1</th>\n",
              "      <td>581844</td>\n",
              "      <td>6</td>\n",
              "      <td>Triangle</td>\n",
              "      <td>164190</td>\n",
              "      <td>NaN</td>\n",
              "      <td>NaN</td>\n",
              "      <td>NaN</td>\n",
              "      <td>NaN</td>\n",
              "      <td>NaN</td>\n",
              "      <td>NaN</td>\n",
              "      <td>NaN</td>\n",
              "    </tr>\n",
              "    <tr>\n",
              "      <th>nom_2</th>\n",
              "      <td>581965</td>\n",
              "      <td>6</td>\n",
              "      <td>Hamster</td>\n",
              "      <td>164897</td>\n",
              "      <td>NaN</td>\n",
              "      <td>NaN</td>\n",
              "      <td>NaN</td>\n",
              "      <td>NaN</td>\n",
              "      <td>NaN</td>\n",
              "      <td>NaN</td>\n",
              "      <td>NaN</td>\n",
              "    </tr>\n",
              "    <tr>\n",
              "      <th>nom_3</th>\n",
              "      <td>581879</td>\n",
              "      <td>6</td>\n",
              "      <td>India</td>\n",
              "      <td>164869</td>\n",
              "      <td>NaN</td>\n",
              "      <td>NaN</td>\n",
              "      <td>NaN</td>\n",
              "      <td>NaN</td>\n",
              "      <td>NaN</td>\n",
              "      <td>NaN</td>\n",
              "      <td>NaN</td>\n",
              "    </tr>\n",
              "    <tr>\n",
              "      <th>nom_4</th>\n",
              "      <td>581965</td>\n",
              "      <td>4</td>\n",
              "      <td>Theremin</td>\n",
              "      <td>308621</td>\n",
              "      <td>NaN</td>\n",
              "      <td>NaN</td>\n",
              "      <td>NaN</td>\n",
              "      <td>NaN</td>\n",
              "      <td>NaN</td>\n",
              "      <td>NaN</td>\n",
              "      <td>NaN</td>\n",
              "    </tr>\n",
              "    <tr>\n",
              "      <th>nom_5</th>\n",
              "      <td>582222</td>\n",
              "      <td>1220</td>\n",
              "      <td>fc8fc7e56</td>\n",
              "      <td>977</td>\n",
              "      <td>NaN</td>\n",
              "      <td>NaN</td>\n",
              "      <td>NaN</td>\n",
              "      <td>NaN</td>\n",
              "      <td>NaN</td>\n",
              "      <td>NaN</td>\n",
              "      <td>NaN</td>\n",
              "    </tr>\n",
              "    <tr>\n",
              "      <th>nom_6</th>\n",
              "      <td>581869</td>\n",
              "      <td>1519</td>\n",
              "      <td>ea8c5e181</td>\n",
              "      <td>805</td>\n",
              "      <td>NaN</td>\n",
              "      <td>NaN</td>\n",
              "      <td>NaN</td>\n",
              "      <td>NaN</td>\n",
              "      <td>NaN</td>\n",
              "      <td>NaN</td>\n",
              "      <td>NaN</td>\n",
              "    </tr>\n",
              "    <tr>\n",
              "      <th>nom_7</th>\n",
              "      <td>581997</td>\n",
              "      <td>222</td>\n",
              "      <td>4ae48e857</td>\n",
              "      <td>5035</td>\n",
              "      <td>NaN</td>\n",
              "      <td>NaN</td>\n",
              "      <td>NaN</td>\n",
              "      <td>NaN</td>\n",
              "      <td>NaN</td>\n",
              "      <td>NaN</td>\n",
              "      <td>NaN</td>\n",
              "    </tr>\n",
              "    <tr>\n",
              "      <th>nom_8</th>\n",
              "      <td>582245</td>\n",
              "      <td>222</td>\n",
              "      <td>7d7c02c57</td>\n",
              "      <td>5052</td>\n",
              "      <td>NaN</td>\n",
              "      <td>NaN</td>\n",
              "      <td>NaN</td>\n",
              "      <td>NaN</td>\n",
              "      <td>NaN</td>\n",
              "      <td>NaN</td>\n",
              "      <td>NaN</td>\n",
              "    </tr>\n",
              "    <tr>\n",
              "      <th>nom_9</th>\n",
              "      <td>581927</td>\n",
              "      <td>2218</td>\n",
              "      <td>8f3276a6e</td>\n",
              "      <td>565</td>\n",
              "      <td>NaN</td>\n",
              "      <td>NaN</td>\n",
              "      <td>NaN</td>\n",
              "      <td>NaN</td>\n",
              "      <td>NaN</td>\n",
              "      <td>NaN</td>\n",
              "      <td>NaN</td>\n",
              "    </tr>\n",
              "    <tr>\n",
              "      <th>ord_0</th>\n",
              "      <td>581712</td>\n",
              "      <td>NaN</td>\n",
              "      <td>NaN</td>\n",
              "      <td>NaN</td>\n",
              "      <td>1.94822</td>\n",
              "      <td>0.853904</td>\n",
              "      <td>1</td>\n",
              "      <td>1</td>\n",
              "      <td>2</td>\n",
              "      <td>3</td>\n",
              "      <td>3</td>\n",
              "    </tr>\n",
              "    <tr>\n",
              "      <th>ord_1</th>\n",
              "      <td>581959</td>\n",
              "      <td>5</td>\n",
              "      <td>Novice</td>\n",
              "      <td>160597</td>\n",
              "      <td>NaN</td>\n",
              "      <td>NaN</td>\n",
              "      <td>NaN</td>\n",
              "      <td>NaN</td>\n",
              "      <td>NaN</td>\n",
              "      <td>NaN</td>\n",
              "      <td>NaN</td>\n",
              "    </tr>\n",
              "    <tr>\n",
              "      <th>ord_2</th>\n",
              "      <td>581925</td>\n",
              "      <td>6</td>\n",
              "      <td>Freezing</td>\n",
              "      <td>142726</td>\n",
              "      <td>NaN</td>\n",
              "      <td>NaN</td>\n",
              "      <td>NaN</td>\n",
              "      <td>NaN</td>\n",
              "      <td>NaN</td>\n",
              "      <td>NaN</td>\n",
              "      <td>NaN</td>\n",
              "    </tr>\n",
              "    <tr>\n",
              "      <th>ord_3</th>\n",
              "      <td>582084</td>\n",
              "      <td>15</td>\n",
              "      <td>n</td>\n",
              "      <td>70982</td>\n",
              "      <td>NaN</td>\n",
              "      <td>NaN</td>\n",
              "      <td>NaN</td>\n",
              "      <td>NaN</td>\n",
              "      <td>NaN</td>\n",
              "      <td>NaN</td>\n",
              "      <td>NaN</td>\n",
              "    </tr>\n",
              "    <tr>\n",
              "      <th>ord_4</th>\n",
              "      <td>582070</td>\n",
              "      <td>26</td>\n",
              "      <td>N</td>\n",
              "      <td>39978</td>\n",
              "      <td>NaN</td>\n",
              "      <td>NaN</td>\n",
              "      <td>NaN</td>\n",
              "      <td>NaN</td>\n",
              "      <td>NaN</td>\n",
              "      <td>NaN</td>\n",
              "      <td>NaN</td>\n",
              "    </tr>\n",
              "    <tr>\n",
              "      <th>ord_5</th>\n",
              "      <td>582287</td>\n",
              "      <td>190</td>\n",
              "      <td>Fl</td>\n",
              "      <td>10562</td>\n",
              "      <td>NaN</td>\n",
              "      <td>NaN</td>\n",
              "      <td>NaN</td>\n",
              "      <td>NaN</td>\n",
              "      <td>NaN</td>\n",
              "      <td>NaN</td>\n",
              "      <td>NaN</td>\n",
              "    </tr>\n",
              "    <tr>\n",
              "      <th>day</th>\n",
              "      <td>582048</td>\n",
              "      <td>NaN</td>\n",
              "      <td>NaN</td>\n",
              "      <td>NaN</td>\n",
              "      <td>4.11277</td>\n",
              "      <td>2.03443</td>\n",
              "      <td>1</td>\n",
              "      <td>2</td>\n",
              "      <td>5</td>\n",
              "      <td>6</td>\n",
              "      <td>7</td>\n",
              "    </tr>\n",
              "    <tr>\n",
              "      <th>month</th>\n",
              "      <td>582012</td>\n",
              "      <td>NaN</td>\n",
              "      <td>NaN</td>\n",
              "      <td>NaN</td>\n",
              "      <td>6.37132</td>\n",
              "      <td>3.45896</td>\n",
              "      <td>1</td>\n",
              "      <td>3</td>\n",
              "      <td>6</td>\n",
              "      <td>8</td>\n",
              "      <td>12</td>\n",
              "    </tr>\n",
              "    <tr>\n",
              "      <th>target</th>\n",
              "      <td>600000</td>\n",
              "      <td>NaN</td>\n",
              "      <td>NaN</td>\n",
              "      <td>NaN</td>\n",
              "      <td>0.187205</td>\n",
              "      <td>0.390076</td>\n",
              "      <td>0</td>\n",
              "      <td>0</td>\n",
              "      <td>0</td>\n",
              "      <td>0</td>\n",
              "      <td>1</td>\n",
              "    </tr>\n",
              "  </tbody>\n",
              "</table>\n",
              "</div>"
            ],
            "text/plain": [
              "         count unique        top    freq  ...     25%     50%     75%     max\n",
              "id      600000    NaN        NaN     NaN  ...  150000  300000  449999  599999\n",
              "bin_0   582106    NaN        NaN     NaN  ...       0       0       0       1\n",
              "bin_1   581997    NaN        NaN     NaN  ...       0       0       0       1\n",
              "bin_2   582070    NaN        NaN     NaN  ...       0       0       1       1\n",
              "bin_3   581986      2          F  366212  ...     NaN     NaN     NaN     NaN\n",
              "bin_4   581953      2          N  312344  ...     NaN     NaN     NaN     NaN\n",
              "nom_0   581748      3        Red  323286  ...     NaN     NaN     NaN     NaN\n",
              "nom_1   581844      6   Triangle  164190  ...     NaN     NaN     NaN     NaN\n",
              "nom_2   581965      6    Hamster  164897  ...     NaN     NaN     NaN     NaN\n",
              "nom_3   581879      6      India  164869  ...     NaN     NaN     NaN     NaN\n",
              "nom_4   581965      4   Theremin  308621  ...     NaN     NaN     NaN     NaN\n",
              "nom_5   582222   1220  fc8fc7e56     977  ...     NaN     NaN     NaN     NaN\n",
              "nom_6   581869   1519  ea8c5e181     805  ...     NaN     NaN     NaN     NaN\n",
              "nom_7   581997    222  4ae48e857    5035  ...     NaN     NaN     NaN     NaN\n",
              "nom_8   582245    222  7d7c02c57    5052  ...     NaN     NaN     NaN     NaN\n",
              "nom_9   581927   2218  8f3276a6e     565  ...     NaN     NaN     NaN     NaN\n",
              "ord_0   581712    NaN        NaN     NaN  ...       1       2       3       3\n",
              "ord_1   581959      5     Novice  160597  ...     NaN     NaN     NaN     NaN\n",
              "ord_2   581925      6   Freezing  142726  ...     NaN     NaN     NaN     NaN\n",
              "ord_3   582084     15          n   70982  ...     NaN     NaN     NaN     NaN\n",
              "ord_4   582070     26          N   39978  ...     NaN     NaN     NaN     NaN\n",
              "ord_5   582287    190         Fl   10562  ...     NaN     NaN     NaN     NaN\n",
              "day     582048    NaN        NaN     NaN  ...       2       5       6       7\n",
              "month   582012    NaN        NaN     NaN  ...       3       6       8      12\n",
              "target  600000    NaN        NaN     NaN  ...       0       0       0       1\n",
              "\n",
              "[25 rows x 11 columns]"
            ]
          },
          "metadata": {
            "tags": []
          },
          "execution_count": 19
        }
      ]
    },
    {
      "cell_type": "code",
      "metadata": {
        "id": "QIUDbtI2KUEt",
        "colab_type": "code",
        "outputId": "3b8e3abf-e706-4f56-ad0f-a78f365d984a",
        "colab": {
          "base_uri": "https://localhost:8080/",
          "height": 824
        }
      },
      "source": [
        "# Unique Values\n",
        "unique_vals = raw_data.nunique()\n",
        "\n",
        "# Null Values\n",
        "null_vals = raw_data.isnull().sum()\n",
        "\n",
        "df_vals = pd.concat([unique_vals, null_vals], axis=1)\n",
        "df_vals.columns = ['Number of unique', 'Number of NaN values']\n",
        "df_vals"
      ],
      "execution_count": 20,
      "outputs": [
        {
          "output_type": "execute_result",
          "data": {
            "text/html": [
              "<div>\n",
              "<style scoped>\n",
              "    .dataframe tbody tr th:only-of-type {\n",
              "        vertical-align: middle;\n",
              "    }\n",
              "\n",
              "    .dataframe tbody tr th {\n",
              "        vertical-align: top;\n",
              "    }\n",
              "\n",
              "    .dataframe thead th {\n",
              "        text-align: right;\n",
              "    }\n",
              "</style>\n",
              "<table border=\"1\" class=\"dataframe\">\n",
              "  <thead>\n",
              "    <tr style=\"text-align: right;\">\n",
              "      <th></th>\n",
              "      <th>Number of unique</th>\n",
              "      <th>Number of NaN values</th>\n",
              "    </tr>\n",
              "  </thead>\n",
              "  <tbody>\n",
              "    <tr>\n",
              "      <th>id</th>\n",
              "      <td>600000</td>\n",
              "      <td>0</td>\n",
              "    </tr>\n",
              "    <tr>\n",
              "      <th>bin_0</th>\n",
              "      <td>2</td>\n",
              "      <td>17894</td>\n",
              "    </tr>\n",
              "    <tr>\n",
              "      <th>bin_1</th>\n",
              "      <td>2</td>\n",
              "      <td>18003</td>\n",
              "    </tr>\n",
              "    <tr>\n",
              "      <th>bin_2</th>\n",
              "      <td>2</td>\n",
              "      <td>17930</td>\n",
              "    </tr>\n",
              "    <tr>\n",
              "      <th>bin_3</th>\n",
              "      <td>2</td>\n",
              "      <td>18014</td>\n",
              "    </tr>\n",
              "    <tr>\n",
              "      <th>bin_4</th>\n",
              "      <td>2</td>\n",
              "      <td>18047</td>\n",
              "    </tr>\n",
              "    <tr>\n",
              "      <th>nom_0</th>\n",
              "      <td>3</td>\n",
              "      <td>18252</td>\n",
              "    </tr>\n",
              "    <tr>\n",
              "      <th>nom_1</th>\n",
              "      <td>6</td>\n",
              "      <td>18156</td>\n",
              "    </tr>\n",
              "    <tr>\n",
              "      <th>nom_2</th>\n",
              "      <td>6</td>\n",
              "      <td>18035</td>\n",
              "    </tr>\n",
              "    <tr>\n",
              "      <th>nom_3</th>\n",
              "      <td>6</td>\n",
              "      <td>18121</td>\n",
              "    </tr>\n",
              "    <tr>\n",
              "      <th>nom_4</th>\n",
              "      <td>4</td>\n",
              "      <td>18035</td>\n",
              "    </tr>\n",
              "    <tr>\n",
              "      <th>nom_5</th>\n",
              "      <td>1220</td>\n",
              "      <td>17778</td>\n",
              "    </tr>\n",
              "    <tr>\n",
              "      <th>nom_6</th>\n",
              "      <td>1519</td>\n",
              "      <td>18131</td>\n",
              "    </tr>\n",
              "    <tr>\n",
              "      <th>nom_7</th>\n",
              "      <td>222</td>\n",
              "      <td>18003</td>\n",
              "    </tr>\n",
              "    <tr>\n",
              "      <th>nom_8</th>\n",
              "      <td>222</td>\n",
              "      <td>17755</td>\n",
              "    </tr>\n",
              "    <tr>\n",
              "      <th>nom_9</th>\n",
              "      <td>2218</td>\n",
              "      <td>18073</td>\n",
              "    </tr>\n",
              "    <tr>\n",
              "      <th>ord_0</th>\n",
              "      <td>3</td>\n",
              "      <td>18288</td>\n",
              "    </tr>\n",
              "    <tr>\n",
              "      <th>ord_1</th>\n",
              "      <td>5</td>\n",
              "      <td>18041</td>\n",
              "    </tr>\n",
              "    <tr>\n",
              "      <th>ord_2</th>\n",
              "      <td>6</td>\n",
              "      <td>18075</td>\n",
              "    </tr>\n",
              "    <tr>\n",
              "      <th>ord_3</th>\n",
              "      <td>15</td>\n",
              "      <td>17916</td>\n",
              "    </tr>\n",
              "    <tr>\n",
              "      <th>ord_4</th>\n",
              "      <td>26</td>\n",
              "      <td>17930</td>\n",
              "    </tr>\n",
              "    <tr>\n",
              "      <th>ord_5</th>\n",
              "      <td>190</td>\n",
              "      <td>17713</td>\n",
              "    </tr>\n",
              "    <tr>\n",
              "      <th>day</th>\n",
              "      <td>7</td>\n",
              "      <td>17952</td>\n",
              "    </tr>\n",
              "    <tr>\n",
              "      <th>month</th>\n",
              "      <td>12</td>\n",
              "      <td>17988</td>\n",
              "    </tr>\n",
              "    <tr>\n",
              "      <th>target</th>\n",
              "      <td>2</td>\n",
              "      <td>0</td>\n",
              "    </tr>\n",
              "  </tbody>\n",
              "</table>\n",
              "</div>"
            ],
            "text/plain": [
              "        Number of unique  Number of NaN values\n",
              "id                600000                     0\n",
              "bin_0                  2                 17894\n",
              "bin_1                  2                 18003\n",
              "bin_2                  2                 17930\n",
              "bin_3                  2                 18014\n",
              "bin_4                  2                 18047\n",
              "nom_0                  3                 18252\n",
              "nom_1                  6                 18156\n",
              "nom_2                  6                 18035\n",
              "nom_3                  6                 18121\n",
              "nom_4                  4                 18035\n",
              "nom_5               1220                 17778\n",
              "nom_6               1519                 18131\n",
              "nom_7                222                 18003\n",
              "nom_8                222                 17755\n",
              "nom_9               2218                 18073\n",
              "ord_0                  3                 18288\n",
              "ord_1                  5                 18041\n",
              "ord_2                  6                 18075\n",
              "ord_3                 15                 17916\n",
              "ord_4                 26                 17930\n",
              "ord_5                190                 17713\n",
              "day                    7                 17952\n",
              "month                 12                 17988\n",
              "target                 2                     0"
            ]
          },
          "metadata": {
            "tags": []
          },
          "execution_count": 20
        }
      ]
    },
    {
      "cell_type": "code",
      "metadata": {
        "id": "yUMDeI1slXEU",
        "colab_type": "code",
        "outputId": "c0f58327-6fc6-428d-afef-4c2bb2e51eec",
        "colab": {
          "base_uri": "https://localhost:8080/",
          "height": 34
        }
      },
      "source": [
        "raw_data.shape"
      ],
      "execution_count": 21,
      "outputs": [
        {
          "output_type": "execute_result",
          "data": {
            "text/plain": [
              "(600000, 25)"
            ]
          },
          "metadata": {
            "tags": []
          },
          "execution_count": 21
        }
      ]
    },
    {
      "cell_type": "code",
      "metadata": {
        "id": "L66JhjN0re5r",
        "colab_type": "code",
        "outputId": "4e6d332e-c2b3-4715-98ea-0a08986bf90e",
        "colab": {
          "base_uri": "https://localhost:8080/",
          "height": 34
        }
      },
      "source": [
        "raw_data.dropna().shape"
      ],
      "execution_count": 22,
      "outputs": [
        {
          "output_type": "execute_result",
          "data": {
            "text/plain": [
              "(298042, 25)"
            ]
          },
          "metadata": {
            "tags": []
          },
          "execution_count": 22
        }
      ]
    },
    {
      "cell_type": "code",
      "metadata": {
        "id": "Zx32AHoiO6xX",
        "colab_type": "code",
        "outputId": "132cbafd-435c-4fc3-eb42-4b8efabfc511",
        "colab": {
          "base_uri": "https://localhost:8080/",
          "height": 170
        }
      },
      "source": [
        "# Counting missing values per record\n",
        "raw_data.isna().sum(axis=1).value_counts()"
      ],
      "execution_count": 23,
      "outputs": [
        {
          "output_type": "execute_result",
          "data": {
            "text/plain": [
              "0    298042\n",
              "1    211383\n",
              "2     72111\n",
              "3     15664\n",
              "4      2487\n",
              "5       294\n",
              "6        18\n",
              "7         1\n",
              "dtype: int64"
            ]
          },
          "metadata": {
            "tags": []
          },
          "execution_count": 23
        }
      ]
    },
    {
      "cell_type": "code",
      "metadata": {
        "id": "KbrDml9dtmPE",
        "colab_type": "code",
        "outputId": "70ecd64a-58a8-431b-9a25-75378597560c",
        "colab": {
          "base_uri": "https://localhost:8080/",
          "height": 68
        }
      },
      "source": [
        "bin_cols = list(raw_data.loc[:, 'bin_0':'bin_4'].columns)\n",
        "nom_low_cols = list(raw_data.loc[:, 'nom_0':'nom_4'].columns)\n",
        "nom_high_cols = list(raw_data.loc[:, 'nom_5':'nom_9'].columns)\n",
        "ord_low_cols = list(raw_data.loc[:, 'ord_0':'ord_2'].columns)\n",
        "ord_high_cols = list(raw_data.loc[:, 'ord_3':'ord_5'].columns)\n",
        "cycle_cols = ['day', 'month']\n",
        "\n",
        "feature_cols = [bin_cols, nom_low_cols, nom_high_cols, ord_low_cols, ord_high_cols, cycle_cols]\n",
        "\n",
        "record_col = 'id'\n",
        "target_col = 'target'\n",
        "\n",
        "raw_data[target_col].value_counts()"
      ],
      "execution_count": 24,
      "outputs": [
        {
          "output_type": "execute_result",
          "data": {
            "text/plain": [
              "0    487677\n",
              "1    112323\n",
              "Name: target, dtype: int64"
            ]
          },
          "metadata": {
            "tags": []
          },
          "execution_count": 24
        }
      ]
    },
    {
      "cell_type": "code",
      "metadata": {
        "id": "h3J8A7Gmgsio",
        "colab_type": "code",
        "colab": {}
      },
      "source": [
        "def bar_plot(data_df, feature, target):\n",
        "    # counting feature instances by target class\n",
        "    class_df = data_df[[feature, target]].groupby(target, as_index=False).count()\n",
        "\n",
        "    # setting plot style & size\n",
        "    sns.set(style='darkgrid')\n",
        "    plt.figure(figsize=(10, 0.75 * class_df[target].nunique()))\n",
        "\n",
        "    # rendering plot\n",
        "    sns.barplot(x=feature, y=target, data=class_df, edgecolor='black', orient='h')\n",
        "\n",
        "    # adding chart title\n",
        "    plt.title('Number of Records per Class', size=14)\n",
        "\n",
        "    # adding custom labels for axes\n",
        "    plt.ylabel('Class')\n",
        "    plt.xlabel('# of Records')\n",
        "\n",
        "    # adding labels on data points\n",
        "    for index, row in class_df.iterrows():\n",
        "        plt.text(row[feature] + class_df[feature].max() * 0.05, index, f'{row[feature] / 1000:.1f} k', color='black', ha=\"center\", size=11)"
      ],
      "execution_count": 0,
      "outputs": []
    },
    {
      "cell_type": "code",
      "metadata": {
        "id": "j719NYp0ZMYZ",
        "colab_type": "code",
        "outputId": "b92a6fc0-227d-480c-9f93-f02e4c427c21",
        "colab": {
          "base_uri": "https://localhost:8080/",
          "height": 166
        }
      },
      "source": [
        "bar_plot(raw_data, record_col, target_col)"
      ],
      "execution_count": 26,
      "outputs": [
        {
          "output_type": "display_data",
          "data": {
            "image/png": "[encoded data removed]",
            "text/plain": [
              "<Figure size 720x108 with 1 Axes>"
            ]
          },
          "metadata": {
            "tags": []
          }
        }
      ]
    },
    {
      "cell_type": "code",
      "metadata": {
        "id": "c5v1J1-vn4XI",
        "colab_type": "code",
        "outputId": "6cff6656-2452-49a7-e88b-fb42aed7bf8c",
        "colab": {
          "base_uri": "https://localhost:8080/",
          "height": 762
        }
      },
      "source": [
        "for col in bin_cols:\n",
        "    bar_plot(raw_data, record_col, col)"
      ],
      "execution_count": 27,
      "outputs": [
        {
          "output_type": "display_data",
          "data": {
            "image/png": "[encoded data removed]",
            "text/plain": [
              "<Figure size 720x108 with 1 Axes>"
            ]
          },
          "metadata": {
            "tags": []
          }
        },
        {
          "output_type": "display_data",
          "data": {
            "image/png": "[encoded data removed]",
            "text/plain": [
              "<Figure size 720x108 with 1 Axes>"
            ]
          },
          "metadata": {
            "tags": []
          }
        },
        {
          "output_type": "display_data",
          "data": {
            "image/png": "[encoded data removed]",
            "text/plain": [
              "<Figure size 720x108 with 1 Axes>"
            ]
          },
          "metadata": {
            "tags": []
          }
        },
        {
          "output_type": "display_data",
          "data": {
            "image/png": "[encoded data removed]",
            "text/plain": [
              "<Figure size 720x108 with 1 Axes>"
            ]
          },
          "metadata": {
            "tags": []
          }
        },
        {
          "output_type": "display_data",
          "data": {
            "image/png": "[encoded data removed]",
            "text/plain": [
              "<Figure size 720x108 with 1 Axes>"
            ]
          },
          "metadata": {
            "tags": []
          }
        }
      ]
    },
    {
      "cell_type": "code",
      "metadata": {
        "id": "PM_tCU9wqJEH",
        "colab_type": "code",
        "outputId": "d6275452-274b-4474-cf57-e0eb11a46dfd",
        "colab": {
          "base_uri": "https://localhost:8080/",
          "height": 1000
        }
      },
      "source": [
        "for col in nom_low_cols:\n",
        "    bar_plot(raw_data, record_col, col)"
      ],
      "execution_count": 28,
      "outputs": [
        {
          "output_type": "display_data",
          "data": {
            "image/png": "[encoded data removed]",
            "text/plain": [
              "<Figure size 720x162 with 1 Axes>"
            ]
          },
          "metadata": {
            "tags": []
          }
        },
        {
          "output_type": "display_data",
          "data": {
            "image/png": "[encoded data removed]",
            "text/plain": [
              "<Figure size 720x324 with 1 Axes>"
            ]
          },
          "metadata": {
            "tags": []
          }
        },
        {
          "output_type": "display_data",
          "data": {
            "image/png": "[encoded data removed]",
            "text/plain": [
              "<Figure size 720x324 with 1 Axes>"
            ]
          },
          "metadata": {
            "tags": []
          }
        },
        {
          "output_type": "display_data",
          "data": {
            "image/png": "[encoded data removed]",
            "text/plain": [
              "<Figure size 720x324 with 1 Axes>"
            ]
          },
          "metadata": {
            "tags": []
          }
        },
        {
          "output_type": "display_data",
          "data": {
            "image/png": "[encoded data removed]",
            "text/plain": [
              "<Figure size 720x216 with 1 Axes>"
            ]
          },
          "metadata": {
            "tags": []
          }
        }
      ]
    },
    {
      "cell_type": "code",
      "metadata": {
        "id": "jEejkxcDKvzu",
        "colab_type": "code",
        "outputId": "a882e700-bbd4-41bb-8fae-fafb325b6458",
        "colab": {
          "base_uri": "https://localhost:8080/",
          "height": 790
        }
      },
      "source": [
        "for col in ord_low_cols:\n",
        "    bar_plot(raw_data, record_col, col)"
      ],
      "execution_count": 29,
      "outputs": [
        {
          "output_type": "display_data",
          "data": {
            "image/png": "[encoded data removed]",
            "text/plain": [
              "<Figure size 720x162 with 1 Axes>"
            ]
          },
          "metadata": {
            "tags": []
          }
        },
        {
          "output_type": "display_data",
          "data": {
            "image/png": "[encoded data removed]",
            "text/plain": [
              "<Figure size 720x270 with 1 Axes>"
            ]
          },
          "metadata": {
            "tags": []
          }
        },
        {
          "output_type": "display_data",
          "data": {
            "image/png": "[encoded data removed]",
            "text/plain": [
              "<Figure size 720x324 with 1 Axes>"
            ]
          },
          "metadata": {
            "tags": []
          }
        }
      ]
    },
    {
      "cell_type": "code",
      "metadata": {
        "id": "B81gu56383xc",
        "colab_type": "code",
        "outputId": "b36d5275-e522-42bb-d2ce-33e24292edb6",
        "colab": {
          "base_uri": "https://localhost:8080/",
          "height": 927
        }
      },
      "source": [
        "for col in cycle_cols:\n",
        "    bar_plot(raw_data, record_col, col)"
      ],
      "execution_count": 30,
      "outputs": [
        {
          "output_type": "display_data",
          "data": {
            "image/png": "[encoded data removed]",
            "text/plain": [
              "<Figure size 720x378 with 1 Axes>"
            ]
          },
          "metadata": {
            "tags": []
          }
        },
        {
          "output_type": "display_data",
          "data": {
            "image/png": "[encoded data removed]",
            "text/plain": [
              "<Figure size 720x648 with 1 Axes>"
            ]
          },
          "metadata": {
            "tags": []
          }
        }
      ]
    },
    {
      "cell_type": "markdown",
      "metadata": {
        "id": "26N4xl6iL7FT",
        "colab_type": "text"
      },
      "source": [
        "## ***Data Preparation***"
      ]
    },
    {
      "cell_type": "markdown",
      "metadata": {
        "id": "PtSlBmSw6CMO",
        "colab_type": "text"
      },
      "source": [
        "### ***Data Split***"
      ]
    },
    {
      "cell_type": "code",
      "metadata": {
        "id": "ypq6NKsF6BH0",
        "colab_type": "code",
        "colab": {}
      },
      "source": [
        "def data_split(data=None, stratify_col=None, size=0.2, save_data=False, load_data=False):\n",
        "    # Setting variables\n",
        "    train_data, val_data, test_data = None, None, None\n",
        "    file_contents = [train_data, val_data, test_data]\n",
        "    file_names = ['train_data.pkl', 'val_data.pkl', 'test_data.pkl']\n",
        "\n",
        "    if type(data) == type(pd.DataFrame()):\n",
        "        # Data split part\n",
        "        train_data, testval_data = train_test_split(data, test_size=size, random_state=15, stratify=data[stratify_col])\n",
        "        val_data, test_data = train_test_split(testval_data, test_size=0.5, random_state=10, stratify=testval_data[stratify_col])\n",
        "\n",
        "        # Assigning file data contents\n",
        "        file_contents = [train_data, val_data, test_data]\n",
        "\n",
        "        # Reseting indices on data\n",
        "        for contents in file_contents:\n",
        "            contents.reset_index(drop=True, inplace=True)\n",
        "\n",
        "    # Saving data to csv files\n",
        "    if save_data:\n",
        "        for name, contents in zip(file_names, file_contents):\n",
        "            contents.to_pickle(DATA_DIR/name)\n",
        "    \n",
        "    # Loading data from csv files\n",
        "    if load_data:\n",
        "        for pos, name in enumerate(file_names):\n",
        "            file_contents[pos] = pd.read_pickle(DATA_DIR/name)\n",
        "\n",
        "        train_data, val_data, test_data = file_contents\n",
        "\n",
        "    return train_data, val_data, test_data"
      ],
      "execution_count": 0,
      "outputs": []
    },
    {
      "cell_type": "code",
      "metadata": {
        "id": "AuOerMKM9XZY",
        "colab_type": "code",
        "colab": {}
      },
      "source": [
        "# Spliting data into train, validation and test sets\n",
        "train_data, val_data, test_data = data_split(raw_data, target_col, size=0.2, save_data=True, load_data=True)"
      ],
      "execution_count": 0,
      "outputs": []
    },
    {
      "cell_type": "code",
      "metadata": {
        "id": "dvaAwgjt9emT",
        "colab_type": "code",
        "outputId": "8c446aa7-c2d4-4aa3-8e51-de7e5337501a",
        "colab": {
          "base_uri": "https://localhost:8080/",
          "height": 34
        }
      },
      "source": [
        "# Checking the shapes of splited data\n",
        "[x.shape for x in (train_data, val_data, test_data)]"
      ],
      "execution_count": 33,
      "outputs": [
        {
          "output_type": "execute_result",
          "data": {
            "text/plain": [
              "[(480000, 25), (60000, 25), (60000, 25)]"
            ]
          },
          "metadata": {
            "tags": []
          },
          "execution_count": 33
        }
      ]
    },
    {
      "cell_type": "code",
      "metadata": {
        "id": "HUFnPNPr-NGh",
        "colab_type": "code",
        "outputId": "835cc27a-655c-4c37-bfc4-297c2adf9f58",
        "colab": {
          "base_uri": "https://localhost:8080/",
          "height": 824
        }
      },
      "source": [
        "train_data.sample(5).T"
      ],
      "execution_count": 34,
      "outputs": [
        {
          "output_type": "execute_result",
          "data": {
            "text/html": [
              "<div>\n",
              "<style scoped>\n",
              "    .dataframe tbody tr th:only-of-type {\n",
              "        vertical-align: middle;\n",
              "    }\n",
              "\n",
              "    .dataframe tbody tr th {\n",
              "        vertical-align: top;\n",
              "    }\n",
              "\n",
              "    .dataframe thead th {\n",
              "        text-align: right;\n",
              "    }\n",
              "</style>\n",
              "<table border=\"1\" class=\"dataframe\">\n",
              "  <thead>\n",
              "    <tr style=\"text-align: right;\">\n",
              "      <th></th>\n",
              "      <th>29258</th>\n",
              "      <th>348279</th>\n",
              "      <th>368298</th>\n",
              "      <th>383699</th>\n",
              "      <th>242989</th>\n",
              "    </tr>\n",
              "  </thead>\n",
              "  <tbody>\n",
              "    <tr>\n",
              "      <th>id</th>\n",
              "      <td>49141</td>\n",
              "      <td>579450</td>\n",
              "      <td>20908</td>\n",
              "      <td>406281</td>\n",
              "      <td>369149</td>\n",
              "    </tr>\n",
              "    <tr>\n",
              "      <th>bin_0</th>\n",
              "      <td>0</td>\n",
              "      <td>0</td>\n",
              "      <td>0</td>\n",
              "      <td>1</td>\n",
              "      <td>0</td>\n",
              "    </tr>\n",
              "    <tr>\n",
              "      <th>bin_1</th>\n",
              "      <td>0</td>\n",
              "      <td>0</td>\n",
              "      <td>0</td>\n",
              "      <td>0</td>\n",
              "      <td>0</td>\n",
              "    </tr>\n",
              "    <tr>\n",
              "      <th>bin_2</th>\n",
              "      <td>0</td>\n",
              "      <td>0</td>\n",
              "      <td>1</td>\n",
              "      <td>1</td>\n",
              "      <td>1</td>\n",
              "    </tr>\n",
              "    <tr>\n",
              "      <th>bin_3</th>\n",
              "      <td>F</td>\n",
              "      <td>F</td>\n",
              "      <td>F</td>\n",
              "      <td>T</td>\n",
              "      <td>F</td>\n",
              "    </tr>\n",
              "    <tr>\n",
              "      <th>bin_4</th>\n",
              "      <td>Y</td>\n",
              "      <td>N</td>\n",
              "      <td>NaN</td>\n",
              "      <td>NaN</td>\n",
              "      <td>N</td>\n",
              "    </tr>\n",
              "    <tr>\n",
              "      <th>nom_0</th>\n",
              "      <td>Red</td>\n",
              "      <td>Blue</td>\n",
              "      <td>Red</td>\n",
              "      <td>Green</td>\n",
              "      <td>Red</td>\n",
              "    </tr>\n",
              "    <tr>\n",
              "      <th>nom_1</th>\n",
              "      <td>Triangle</td>\n",
              "      <td>Circle</td>\n",
              "      <td>Triangle</td>\n",
              "      <td>Circle</td>\n",
              "      <td>Trapezoid</td>\n",
              "    </tr>\n",
              "    <tr>\n",
              "      <th>nom_2</th>\n",
              "      <td>Axolotl</td>\n",
              "      <td>Hamster</td>\n",
              "      <td>Axolotl</td>\n",
              "      <td>Lion</td>\n",
              "      <td>Lion</td>\n",
              "    </tr>\n",
              "    <tr>\n",
              "      <th>nom_3</th>\n",
              "      <td>Canada</td>\n",
              "      <td>Russia</td>\n",
              "      <td>Finland</td>\n",
              "      <td>Russia</td>\n",
              "      <td>Costa Rica</td>\n",
              "    </tr>\n",
              "    <tr>\n",
              "      <th>nom_4</th>\n",
              "      <td>Bassoon</td>\n",
              "      <td>Bassoon</td>\n",
              "      <td>Theremin</td>\n",
              "      <td>Theremin</td>\n",
              "      <td>Bassoon</td>\n",
              "    </tr>\n",
              "    <tr>\n",
              "      <th>nom_5</th>\n",
              "      <td>820abde38</td>\n",
              "      <td>c6dd41684</td>\n",
              "      <td>7e53abb0b</td>\n",
              "      <td>16f6cd0fd</td>\n",
              "      <td>0d855cbea</td>\n",
              "    </tr>\n",
              "    <tr>\n",
              "      <th>nom_6</th>\n",
              "      <td>64e2a3589</td>\n",
              "      <td>b4d96e0dc</td>\n",
              "      <td>2119720df</td>\n",
              "      <td>d33dd8b93</td>\n",
              "      <td>71d4dd9e5</td>\n",
              "    </tr>\n",
              "    <tr>\n",
              "      <th>nom_7</th>\n",
              "      <td>9294ac66b</td>\n",
              "      <td>e59dd3e27</td>\n",
              "      <td>857cbf8c7</td>\n",
              "      <td>22a1b223f</td>\n",
              "      <td>8d857a0a1</td>\n",
              "    </tr>\n",
              "    <tr>\n",
              "      <th>nom_8</th>\n",
              "      <td>b72c0bbc2</td>\n",
              "      <td>8109ba950</td>\n",
              "      <td>d5a47d599</td>\n",
              "      <td>10fd52d10</td>\n",
              "      <td>0f94eb834</td>\n",
              "    </tr>\n",
              "    <tr>\n",
              "      <th>nom_9</th>\n",
              "      <td>0bc03a29b</td>\n",
              "      <td>fe5312a7a</td>\n",
              "      <td>NaN</td>\n",
              "      <td>a0fb1eac9</td>\n",
              "      <td>9660c9e92</td>\n",
              "    </tr>\n",
              "    <tr>\n",
              "      <th>ord_0</th>\n",
              "      <td>2</td>\n",
              "      <td>3</td>\n",
              "      <td>2</td>\n",
              "      <td>1</td>\n",
              "      <td>1</td>\n",
              "    </tr>\n",
              "    <tr>\n",
              "      <th>ord_1</th>\n",
              "      <td>Contributor</td>\n",
              "      <td>Contributor</td>\n",
              "      <td>Contributor</td>\n",
              "      <td>Master</td>\n",
              "      <td>Grandmaster</td>\n",
              "    </tr>\n",
              "    <tr>\n",
              "      <th>ord_2</th>\n",
              "      <td>Warm</td>\n",
              "      <td>Freezing</td>\n",
              "      <td>Warm</td>\n",
              "      <td>NaN</td>\n",
              "      <td>Lava Hot</td>\n",
              "    </tr>\n",
              "    <tr>\n",
              "      <th>ord_3</th>\n",
              "      <td>NaN</td>\n",
              "      <td>n</td>\n",
              "      <td>a</td>\n",
              "      <td>e</td>\n",
              "      <td>m</td>\n",
              "    </tr>\n",
              "    <tr>\n",
              "      <th>ord_4</th>\n",
              "      <td>F</td>\n",
              "      <td>O</td>\n",
              "      <td>F</td>\n",
              "      <td>H</td>\n",
              "      <td>M</td>\n",
              "    </tr>\n",
              "    <tr>\n",
              "      <th>ord_5</th>\n",
              "      <td>rg</td>\n",
              "      <td>Mq</td>\n",
              "      <td>CN</td>\n",
              "      <td>LS</td>\n",
              "      <td>ne</td>\n",
              "    </tr>\n",
              "    <tr>\n",
              "      <th>day</th>\n",
              "      <td>7</td>\n",
              "      <td>5</td>\n",
              "      <td>1</td>\n",
              "      <td>5</td>\n",
              "      <td>2</td>\n",
              "    </tr>\n",
              "    <tr>\n",
              "      <th>month</th>\n",
              "      <td>8</td>\n",
              "      <td>7</td>\n",
              "      <td>5</td>\n",
              "      <td>8</td>\n",
              "      <td>6</td>\n",
              "    </tr>\n",
              "    <tr>\n",
              "      <th>target</th>\n",
              "      <td>0</td>\n",
              "      <td>0</td>\n",
              "      <td>0</td>\n",
              "      <td>0</td>\n",
              "      <td>0</td>\n",
              "    </tr>\n",
              "  </tbody>\n",
              "</table>\n",
              "</div>"
            ],
            "text/plain": [
              "             29258        348279       368298     383699       242989\n",
              "id            49141       579450        20908     406281       369149\n",
              "bin_0             0            0            0          1            0\n",
              "bin_1             0            0            0          0            0\n",
              "bin_2             0            0            1          1            1\n",
              "bin_3             F            F            F          T            F\n",
              "bin_4             Y            N          NaN        NaN            N\n",
              "nom_0           Red         Blue          Red      Green          Red\n",
              "nom_1      Triangle       Circle     Triangle     Circle    Trapezoid\n",
              "nom_2       Axolotl      Hamster      Axolotl       Lion         Lion\n",
              "nom_3        Canada       Russia      Finland     Russia   Costa Rica\n",
              "nom_4       Bassoon      Bassoon     Theremin   Theremin      Bassoon\n",
              "nom_5     820abde38    c6dd41684    7e53abb0b  16f6cd0fd    0d855cbea\n",
              "nom_6     64e2a3589    b4d96e0dc    2119720df  d33dd8b93    71d4dd9e5\n",
              "nom_7     9294ac66b    e59dd3e27    857cbf8c7  22a1b223f    8d857a0a1\n",
              "nom_8     b72c0bbc2    8109ba950    d5a47d599  10fd52d10    0f94eb834\n",
              "nom_9     0bc03a29b    fe5312a7a          NaN  a0fb1eac9    9660c9e92\n",
              "ord_0             2            3            2          1            1\n",
              "ord_1   Contributor  Contributor  Contributor     Master  Grandmaster\n",
              "ord_2          Warm     Freezing         Warm        NaN     Lava Hot\n",
              "ord_3           NaN            n            a          e            m\n",
              "ord_4             F            O            F          H            M\n",
              "ord_5            rg           Mq           CN         LS           ne\n",
              "day               7            5            1          5            2\n",
              "month             8            7            5          8            6\n",
              "target            0            0            0          0            0"
            ]
          },
          "metadata": {
            "tags": []
          },
          "execution_count": 34
        }
      ]
    },
    {
      "cell_type": "code",
      "metadata": {
        "id": "yGUWy0parGPi",
        "colab_type": "code",
        "colab": {}
      },
      "source": [
        "class_weights = compute_class_weight('balanced', np.unique(train_data[target_col]), train_data[target_col])"
      ],
      "execution_count": 0,
      "outputs": []
    },
    {
      "cell_type": "markdown",
      "metadata": {
        "id": "DMHSZi2mxBhU",
        "colab_type": "text"
      },
      "source": [
        "### ***Data Preprocessing***"
      ]
    },
    {
      "cell_type": "code",
      "metadata": {
        "id": "OtXBqrC3LPbD",
        "colab_type": "code",
        "colab": {}
      },
      "source": [
        "def binary_encode(data, features, fit_data=False, transform_data=False):\n",
        "    # Setting variables\n",
        "    data = data.copy()\n",
        "    file_name = 'binary_encoder.pkl'\n",
        "\n",
        "    # Filling NaN values and changing feature data type\n",
        "    data[features] = data[features].fillna('NA')\n",
        "    data[features] = data[features].astype('str')\n",
        "\n",
        "    # Fitting feature encoder & saving to pickle file\n",
        "    if fit_data:\n",
        "        encoder = OneHotEncoder(handle_unknown='ignore')\n",
        "        encoder.fit(data[features])\n",
        "\n",
        "        with open(MODEL_DIR/file_name, 'wb') as f:\n",
        "            pickle.dump(encoder, f, pickle.HIGHEST_PROTOCOL)\n",
        "        f.close()\n",
        "\n",
        "    # Loading feature encoder from pickle file & transforming features\n",
        "    if transform_data:\n",
        "        with open(MODEL_DIR/file_name, 'rb') as f:\n",
        "            encoder = pickle.load(f)\n",
        "        f.close()\n",
        "\n",
        "        enc_cols = encoder.get_feature_names(features)\n",
        "        enc_cols = [f'{old}_{new}' for old, new in zip(enc_cols, ['enc'] * len(enc_cols))]\n",
        "        data[enc_cols] = pd.DataFrame(encoder.transform(data[features]).toarray(), columns=enc_cols, dtype='int')\n",
        "\n",
        "    return data, encoder"
      ],
      "execution_count": 0,
      "outputs": []
    },
    {
      "cell_type": "code",
      "metadata": {
        "id": "9lQlVMyVmrs1",
        "colab_type": "code",
        "colab": {}
      },
      "source": [
        "def nom_low_encode(data, features, fit_data=False, transform_data=False):\n",
        "    # Setting variables\n",
        "    data = data.copy()\n",
        "    file_name = 'nom_low_encoder.pkl'\n",
        "\n",
        "    # Filling NaN values and changing feature data type\n",
        "    data[features] = data[features].fillna('NA')\n",
        "    data[features] = data[features].astype('str')\n",
        "\n",
        "    # Fitting feature encoder & saving to pickle file\n",
        "    if fit_data:\n",
        "        encoder = OneHotEncoder(handle_unknown='ignore')\n",
        "        encoder.fit(data[features])\n",
        "\n",
        "        with open(MODEL_DIR/file_name, 'wb') as f:\n",
        "            pickle.dump(encoder, f, pickle.HIGHEST_PROTOCOL)\n",
        "        f.close()\n",
        "\n",
        "    # Loading feature encoder from pickle file & transforming features\n",
        "    if transform_data:\n",
        "        with open(MODEL_DIR/file_name, 'rb') as f:\n",
        "            encoder = pickle.load(f)\n",
        "        f.close()\n",
        "\n",
        "        enc_cols = encoder.get_feature_names(features)\n",
        "        enc_cols = [f'{old}_{new}' for old, new in zip(enc_cols, ['enc'] * len(enc_cols))]\n",
        "        data[enc_cols] = pd.DataFrame(encoder.transform(data[features]).toarray(), columns=enc_cols, dtype='int')\n",
        "\n",
        "    return data, encoder"
      ],
      "execution_count": 0,
      "outputs": []
    },
    {
      "cell_type": "code",
      "metadata": {
        "id": "kqluu3dZrqbB",
        "colab_type": "code",
        "colab": {}
      },
      "source": [
        "def nom_high_encode(data, features, fit_data=False, transform_data=False):\n",
        "    # Setting variables\n",
        "    data = data.copy()\n",
        "    file_name = 'nom_high_encoder.pkl'\n",
        "\n",
        "    # Filling NaN values and changing feature data type\n",
        "    data[features] = data[features].fillna(0)\n",
        "    data[features] = data[features].astype('str')\n",
        "\n",
        "    # Fitting feature encoder & saving to pickle file\n",
        "    if fit_data:\n",
        "        encoder = OrdinalEncoder()\n",
        "        encoder.fit(data[features])\n",
        "\n",
        "        with open(MODEL_DIR/file_name, 'wb') as f:\n",
        "            pickle.dump(encoder, f, pickle.HIGHEST_PROTOCOL)\n",
        "        f.close()\n",
        "\n",
        "    # Loading feature encoder from pickle file & transforming features\n",
        "    if transform_data:\n",
        "        with open(MODEL_DIR/file_name, 'rb') as f:\n",
        "            encoder = pickle.load(f)\n",
        "        f.close()\n",
        "\n",
        "        enc_cols = [f'{old}_{new}' for old, new in zip(features, ['enc'] * len(features))]\n",
        "        data[enc_cols] = pd.DataFrame(encoder.transform(data[features]), columns=enc_cols, dtype='int')\n",
        "\n",
        "    return data, encoder"
      ],
      "execution_count": 0,
      "outputs": []
    },
    {
      "cell_type": "code",
      "metadata": {
        "id": "MUWe8DASCDLe",
        "colab_type": "code",
        "colab": {}
      },
      "source": [
        "def ord_low_encode(data, features, fit_data=False, transform_data=False):\n",
        "    # Setting variables\n",
        "    data = data.copy()\n",
        "    file_name = 'ord_low_encoder.pkl'\n",
        "    levels = ['NA', '1.0', '2.0', '3.0']\n",
        "    expertise = ['NA', 'Novice', 'Contributor', 'Expert', 'Master', 'Grandmaster']\n",
        "    temperature = ['NA', 'Freezing', 'Cold', 'Warm', 'Hot', 'Boiling Hot', 'Lava Hot']\n",
        "\n",
        "    # Filling NaN values and changing feature data type\n",
        "    data[features] = data[features].fillna('NA')\n",
        "    data[features] = data[features].astype('str')\n",
        "\n",
        "    # Fitting feature encoder & saving to pickle file\n",
        "    if fit_data:\n",
        "        encoder = OrdinalEncoder(categories=[levels, expertise, temperature])\n",
        "        encoder.fit(data[features])\n",
        "\n",
        "        with open(MODEL_DIR/file_name, 'wb') as f:\n",
        "            pickle.dump(encoder, f, pickle.HIGHEST_PROTOCOL)\n",
        "        f.close()\n",
        "\n",
        "    # Loading feature encoder from pickle file & transforming features\n",
        "    if transform_data:\n",
        "        with open(MODEL_DIR/file_name, 'rb') as f:\n",
        "            encoder = pickle.load(f)\n",
        "        f.close()\n",
        "\n",
        "        enc_cols = [f'{old}_{new}' for old, new in zip(features, ['enc'] * len(features))]\n",
        "        data[enc_cols] = pd.DataFrame(encoder.transform(data[features]), columns=enc_cols, dtype='int')\n",
        "\n",
        "    return data, encoder"
      ],
      "execution_count": 0,
      "outputs": []
    },
    {
      "cell_type": "code",
      "metadata": {
        "id": "X91Z3LmoZC7F",
        "colab_type": "code",
        "colab": {}
      },
      "source": [
        "def ord_high_encode(data, features, fit_data=False, transform_data=False):\n",
        "    # Setting variables\n",
        "    data = data.copy()\n",
        "    file_name = 'ord_high_encoder.pkl'\n",
        "\n",
        "    # Filling NaN values and changing feature data type\n",
        "    data[features] = data[features].fillna(0)\n",
        "    data[features] = data[features].astype('str')\n",
        "\n",
        "    # Fitting feature encoder & saving to pickle file\n",
        "    if fit_data:\n",
        "        encoder = OrdinalEncoder()\n",
        "        encoder.fit(data[features])\n",
        "\n",
        "        with open(MODEL_DIR/file_name, 'wb') as f:\n",
        "            pickle.dump(encoder, f, pickle.HIGHEST_PROTOCOL)\n",
        "        f.close()\n",
        "\n",
        "    # Loading feature encoder from pickle file & transforming features\n",
        "    if transform_data:\n",
        "        with open(MODEL_DIR/file_name, 'rb') as f:\n",
        "            encoder = pickle.load(f)\n",
        "        f.close()\n",
        "\n",
        "        enc_cols = [f'{old}_{new}' for old, new in zip(features, ['enc'] * len(features))]\n",
        "        data[enc_cols] = pd.DataFrame(encoder.transform(data[features]), columns=enc_cols, dtype='int')\n",
        "\n",
        "    return data, encoder"
      ],
      "execution_count": 0,
      "outputs": []
    },
    {
      "cell_type": "code",
      "metadata": {
        "id": "oOKoE6uF6hWM",
        "colab_type": "code",
        "colab": {}
      },
      "source": [
        "def cycle_encode(data, features, fit_data=False, transform_data=False):\n",
        "    # Setting variables\n",
        "    data = data.copy()\n",
        "    file_name = 'cycle_encoder.pkl'\n",
        "    days = ['NA', '1.0', '2.0', '3.0', '4.0', '5.0', '6.0', '7.0']\n",
        "    months = ['NA', '1.0', '2.0', '3.0', '4.0', '5.0', '6.0', '7.0', '8.0', '9.0', '10.0', '11.0', '12.0']\n",
        "\n",
        "    # Filling NaN values and changing feature data type\n",
        "    data[features] = data[features].fillna('NA')\n",
        "    data[features] = data[features].astype('str')\n",
        "\n",
        "    # Fitting feature encoder & saving to pickle file\n",
        "    if fit_data:\n",
        "        encoder = OrdinalEncoder(categories=[days, months])\n",
        "        encoder.fit(data[features])\n",
        "\n",
        "        with open(MODEL_DIR/file_name, 'wb') as f:\n",
        "            pickle.dump(encoder, f, pickle.HIGHEST_PROTOCOL)\n",
        "        f.close()\n",
        "\n",
        "    # Loading feature encoder from pickle file & transforming features\n",
        "    if transform_data:\n",
        "        with open(MODEL_DIR/file_name, 'rb') as f:\n",
        "            encoder = pickle.load(f)\n",
        "        f.close()\n",
        "\n",
        "        enc_cols = [f'{old}_{new}' for old, new in zip(features, ['enc'] * len(features))]\n",
        "        data[enc_cols] = pd.DataFrame(encoder.transform(data[features]), columns=enc_cols, dtype='int')\n",
        "\n",
        "    return data, encoder"
      ],
      "execution_count": 0,
      "outputs": []
    },
    {
      "cell_type": "code",
      "metadata": {
        "id": "uQgk-ewh1OPA",
        "colab_type": "code",
        "colab": {}
      },
      "source": [
        "def preprocess_pipeline (data, features, fit_data=False, transform_data=False):\n",
        "    data = data.copy()\n",
        "    bin_cols, nom_low_cols, nom_high_cols, ord_low_cols, ord_high_cols, cycle_cols = features\n",
        "\n",
        "    data, bin_encoder = binary_encode(data, bin_cols, fit_data, transform_data)\n",
        "    data, nom_low_encoder = nom_low_encode(data, nom_low_cols, fit_data, transform_data)\n",
        "    data, nom_high_encoder = nom_high_encode(data, nom_high_cols, fit_data, transform_data)\n",
        "    data, ord_low_encoder = ord_low_encode(data, ord_low_cols, fit_data, transform_data)\n",
        "    data, ord_high_encoder = ord_high_encode(data, ord_high_cols, fit_data, transform_data)\n",
        "    data, cycle_encoder = cycle_encode(data, cycle_cols, fit_data, transform_data)\n",
        "\n",
        "    encoders = [bin_encoder, nom_low_encoder, nom_high_encoder, ord_low_encoder, ord_high_encoder, cycle_encoder]\n",
        "\n",
        "    return data, encoders"
      ],
      "execution_count": 0,
      "outputs": []
    },
    {
      "cell_type": "code",
      "metadata": {
        "id": "LQEnDmbZH8xm",
        "colab_type": "code",
        "colab": {}
      },
      "source": [
        "train_data, encoders = preprocess_pipeline(train_data, feature_cols, fit_data=True, transform_data=True)"
      ],
      "execution_count": 0,
      "outputs": []
    },
    {
      "cell_type": "code",
      "metadata": {
        "id": "fEB1E7oVYApz",
        "colab_type": "code",
        "outputId": "1f7c1471-e4bf-4904-b4b8-51245c8ccba7",
        "colab": {
          "base_uri": "https://localhost:8080/",
          "height": 102
        }
      },
      "source": [
        "bin_encoder, nom_low_encoder, nom_high_encoder, ord_low_encoder, ord_high_encoder, cycle_encoder = encoders\n",
        "ord_low_encoder.categories_"
      ],
      "execution_count": 44,
      "outputs": [
        {
          "output_type": "execute_result",
          "data": {
            "text/plain": [
              "[array(['NA', '1.0', '2.0', '3.0'], dtype=object),\n",
              " array(['NA', 'Novice', 'Contributor', 'Expert', 'Master', 'Grandmaster'],\n",
              "       dtype=object),\n",
              " array(['NA', 'Freezing', 'Cold', 'Warm', 'Hot', 'Boiling Hot', 'Lava Hot'],\n",
              "       dtype=object)]"
            ]
          },
          "metadata": {
            "tags": []
          },
          "execution_count": 44
        }
      ]
    },
    {
      "cell_type": "code",
      "metadata": {
        "id": "FJMIPKyIYIN9",
        "colab_type": "code",
        "outputId": "6af3585b-dd93-4634-ff6a-b140d8115f2a",
        "colab": {
          "base_uri": "https://localhost:8080/",
          "height": 235
        }
      },
      "source": [
        "train_data[list(train_data.filter(regex='ord_[0-2]'))].sample(10).T"
      ],
      "execution_count": 45,
      "outputs": [
        {
          "output_type": "execute_result",
          "data": {
            "text/html": [
              "<div>\n",
              "<style scoped>\n",
              "    .dataframe tbody tr th:only-of-type {\n",
              "        vertical-align: middle;\n",
              "    }\n",
              "\n",
              "    .dataframe tbody tr th {\n",
              "        vertical-align: top;\n",
              "    }\n",
              "\n",
              "    .dataframe thead th {\n",
              "        text-align: right;\n",
              "    }\n",
              "</style>\n",
              "<table border=\"1\" class=\"dataframe\">\n",
              "  <thead>\n",
              "    <tr style=\"text-align: right;\">\n",
              "      <th></th>\n",
              "      <th>222526</th>\n",
              "      <th>147994</th>\n",
              "      <th>357450</th>\n",
              "      <th>239716</th>\n",
              "      <th>229967</th>\n",
              "      <th>311118</th>\n",
              "      <th>214009</th>\n",
              "      <th>154087</th>\n",
              "      <th>56921</th>\n",
              "      <th>349523</th>\n",
              "    </tr>\n",
              "  </thead>\n",
              "  <tbody>\n",
              "    <tr>\n",
              "      <th>ord_0</th>\n",
              "      <td>3.0</td>\n",
              "      <td>1.0</td>\n",
              "      <td>3.0</td>\n",
              "      <td>1.0</td>\n",
              "      <td>2.0</td>\n",
              "      <td>1.0</td>\n",
              "      <td>3.0</td>\n",
              "      <td>2.0</td>\n",
              "      <td>3.0</td>\n",
              "      <td>1.0</td>\n",
              "    </tr>\n",
              "    <tr>\n",
              "      <th>ord_1</th>\n",
              "      <td>Expert</td>\n",
              "      <td>Novice</td>\n",
              "      <td>Novice</td>\n",
              "      <td>Grandmaster</td>\n",
              "      <td>Contributor</td>\n",
              "      <td>Novice</td>\n",
              "      <td>Master</td>\n",
              "      <td>Novice</td>\n",
              "      <td>Grandmaster</td>\n",
              "      <td>Expert</td>\n",
              "    </tr>\n",
              "    <tr>\n",
              "      <th>ord_2</th>\n",
              "      <td>NA</td>\n",
              "      <td>Freezing</td>\n",
              "      <td>Cold</td>\n",
              "      <td>Lava Hot</td>\n",
              "      <td>Lava Hot</td>\n",
              "      <td>Freezing</td>\n",
              "      <td>Hot</td>\n",
              "      <td>Hot</td>\n",
              "      <td>Boiling Hot</td>\n",
              "      <td>NA</td>\n",
              "    </tr>\n",
              "    <tr>\n",
              "      <th>ord_0_enc</th>\n",
              "      <td>3</td>\n",
              "      <td>1</td>\n",
              "      <td>3</td>\n",
              "      <td>1</td>\n",
              "      <td>2</td>\n",
              "      <td>1</td>\n",
              "      <td>3</td>\n",
              "      <td>2</td>\n",
              "      <td>3</td>\n",
              "      <td>1</td>\n",
              "    </tr>\n",
              "    <tr>\n",
              "      <th>ord_1_enc</th>\n",
              "      <td>3</td>\n",
              "      <td>1</td>\n",
              "      <td>1</td>\n",
              "      <td>5</td>\n",
              "      <td>2</td>\n",
              "      <td>1</td>\n",
              "      <td>4</td>\n",
              "      <td>1</td>\n",
              "      <td>5</td>\n",
              "      <td>3</td>\n",
              "    </tr>\n",
              "    <tr>\n",
              "      <th>ord_2_enc</th>\n",
              "      <td>0</td>\n",
              "      <td>1</td>\n",
              "      <td>2</td>\n",
              "      <td>6</td>\n",
              "      <td>6</td>\n",
              "      <td>1</td>\n",
              "      <td>4</td>\n",
              "      <td>4</td>\n",
              "      <td>5</td>\n",
              "      <td>0</td>\n",
              "    </tr>\n",
              "  </tbody>\n",
              "</table>\n",
              "</div>"
            ],
            "text/plain": [
              "           222526    147994  357450  ...  154087       56921   349523\n",
              "ord_0         3.0       1.0     3.0  ...     2.0          3.0     1.0\n",
              "ord_1      Expert    Novice  Novice  ...  Novice  Grandmaster  Expert\n",
              "ord_2          NA  Freezing    Cold  ...     Hot  Boiling Hot      NA\n",
              "ord_0_enc       3         1       3  ...       2            3       1\n",
              "ord_1_enc       3         1       1  ...       1            5       3\n",
              "ord_2_enc       0         1       2  ...       4            5       0\n",
              "\n",
              "[6 rows x 10 columns]"
            ]
          },
          "metadata": {
            "tags": []
          },
          "execution_count": 45
        }
      ]
    },
    {
      "cell_type": "code",
      "metadata": {
        "id": "GgJ0oQPpZ9LO",
        "colab_type": "code",
        "outputId": "3346c731-5dcf-4fea-9eae-81a4f615397b",
        "colab": {
          "base_uri": "https://localhost:8080/",
          "height": 357
        }
      },
      "source": [
        "train_data.columns"
      ],
      "execution_count": 46,
      "outputs": [
        {
          "output_type": "execute_result",
          "data": {
            "text/plain": [
              "Index(['id', 'bin_0', 'bin_1', 'bin_2', 'bin_3', 'bin_4', 'nom_0', 'nom_1',\n",
              "       'nom_2', 'nom_3', 'nom_4', 'nom_5', 'nom_6', 'nom_7', 'nom_8', 'nom_9',\n",
              "       'ord_0', 'ord_1', 'ord_2', 'ord_3', 'ord_4', 'ord_5', 'day', 'month',\n",
              "       'target', 'bin_0_0.0_enc', 'bin_0_1.0_enc', 'bin_0_NA_enc',\n",
              "       'bin_1_0.0_enc', 'bin_1_1.0_enc', 'bin_1_NA_enc', 'bin_2_0.0_enc',\n",
              "       'bin_2_1.0_enc', 'bin_2_NA_enc', 'bin_3_F_enc', 'bin_3_NA_enc',\n",
              "       'bin_3_T_enc', 'bin_4_N_enc', 'bin_4_NA_enc', 'bin_4_Y_enc',\n",
              "       'nom_0_Blue_enc', 'nom_0_Green_enc', 'nom_0_NA_enc', 'nom_0_Red_enc',\n",
              "       'nom_1_Circle_enc', 'nom_1_NA_enc', 'nom_1_Polygon_enc',\n",
              "       'nom_1_Square_enc', 'nom_1_Star_enc', 'nom_1_Trapezoid_enc',\n",
              "       'nom_1_Triangle_enc', 'nom_2_Axolotl_enc', 'nom_2_Cat_enc',\n",
              "       'nom_2_Dog_enc', 'nom_2_Hamster_enc', 'nom_2_Lion_enc', 'nom_2_NA_enc',\n",
              "       'nom_2_Snake_enc', 'nom_3_Canada_enc', 'nom_3_China_enc',\n",
              "       'nom_3_Costa Rica_enc', 'nom_3_Finland_enc', 'nom_3_India_enc',\n",
              "       'nom_3_NA_enc', 'nom_3_Russia_enc', 'nom_4_Bassoon_enc', 'nom_4_NA_enc',\n",
              "       'nom_4_Oboe_enc', 'nom_4_Piano_enc', 'nom_4_Theremin_enc', 'nom_5_enc',\n",
              "       'nom_6_enc', 'nom_7_enc', 'nom_8_enc', 'nom_9_enc', 'ord_0_enc',\n",
              "       'ord_1_enc', 'ord_2_enc', 'ord_3_enc', 'ord_4_enc', 'ord_5_enc',\n",
              "       'day_enc', 'month_enc'],\n",
              "      dtype='object')"
            ]
          },
          "metadata": {
            "tags": []
          },
          "execution_count": 46
        }
      ]
    },
    {
      "cell_type": "code",
      "metadata": {
        "id": "X1aQH_-eeK80",
        "colab_type": "code",
        "colab": {}
      },
      "source": [
        "val_data, _ = preprocess_pipeline(val_data, feature_cols, transform_data=True)"
      ],
      "execution_count": 0,
      "outputs": []
    },
    {
      "cell_type": "code",
      "metadata": {
        "id": "gzcnE2Y95zya",
        "colab_type": "code",
        "colab": {}
      },
      "source": [
        ""
      ],
      "execution_count": 0,
      "outputs": []
    },
    {
      "cell_type": "markdown",
      "metadata": {
        "id": "BhTWcv4XUOOe",
        "colab_type": "text"
      },
      "source": [
        "### ***Feature Engineering***"
      ]
    },
    {
      "cell_type": "code",
      "metadata": {
        "id": "Os5a8ZOGURo9",
        "colab_type": "code",
        "colab": {}
      },
      "source": [
        ""
      ],
      "execution_count": 0,
      "outputs": []
    },
    {
      "cell_type": "markdown",
      "metadata": {
        "id": "BN0KDe9IYRG9",
        "colab_type": "text"
      },
      "source": [
        "### ***Data Upsampling & Downsampling***"
      ]
    },
    {
      "cell_type": "code",
      "metadata": {
        "id": "IRwDDYXAYRuw",
        "colab_type": "code",
        "colab": {}
      },
      "source": [
        "train_major = train_data[train_data[target_col]==0]\n",
        "train_minor = train_data[train_data[target_col]==1]"
      ],
      "execution_count": 0,
      "outputs": []
    },
    {
      "cell_type": "code",
      "metadata": {
        "id": "321Al2Suavxw",
        "colab_type": "code",
        "colab": {}
      },
      "source": [
        "train_minor_up = resample(\n",
        "    train_minor,\n",
        "    replace=True,\n",
        "    n_samples=len(train_minor)*3,\n",
        "    random_state=10\n",
        ")"
      ],
      "execution_count": 0,
      "outputs": []
    },
    {
      "cell_type": "code",
      "metadata": {
        "id": "ldnpAZr5b8ve",
        "colab_type": "code",
        "colab": {}
      },
      "source": [
        "train_data = pd.concat([train_major, train_minor_up])"
      ],
      "execution_count": 0,
      "outputs": []
    },
    {
      "cell_type": "code",
      "metadata": {
        "id": "HA4hQk3IcLQa",
        "colab_type": "code",
        "outputId": "55aa6259-bf31-4715-89a6-af4634b24fb7",
        "colab": {
          "base_uri": "https://localhost:8080/",
          "height": 34
        }
      },
      "source": [
        "train_data.shape"
      ],
      "execution_count": 51,
      "outputs": [
        {
          "output_type": "execute_result",
          "data": {
            "text/plain": [
              "(659716, 83)"
            ]
          },
          "metadata": {
            "tags": []
          },
          "execution_count": 51
        }
      ]
    },
    {
      "cell_type": "markdown",
      "metadata": {
        "id": "Ytliep0j_4ck",
        "colab_type": "text"
      },
      "source": [
        "### ***Data Cleaning***"
      ]
    },
    {
      "cell_type": "code",
      "metadata": {
        "id": "WbYSX4mj_7vB",
        "colab_type": "code",
        "colab": {}
      },
      "source": [
        "train_labels = train_data[target_col]\n",
        "train_data = train_data[list(train_data.filter(regex='enc'))]\n",
        "\n",
        "val_labels = val_data[target_col]\n",
        "val_data = val_data[list(val_data.filter(regex='enc'))]"
      ],
      "execution_count": 0,
      "outputs": []
    },
    {
      "cell_type": "markdown",
      "metadata": {
        "id": "21PwusQlbQny",
        "colab_type": "text"
      },
      "source": [
        "## ***Classic ML Models***"
      ]
    },
    {
      "cell_type": "markdown",
      "metadata": {
        "id": "t6Tn9OvGIns8",
        "colab_type": "text"
      },
      "source": [
        "### ***Helper Functions***"
      ]
    },
    {
      "cell_type": "code",
      "metadata": {
        "id": "SQC1MeunG35T",
        "colab_type": "code",
        "colab": {}
      },
      "source": [
        "def model_predictions(model, data, labels):\n",
        "    # Predicting labels\n",
        "    preds = model.predict(data) > 0.5\n",
        "    probs = model.predict_proba(data)[:, 1]\n",
        "\n",
        "    # Printing metrics\n",
        "    model_prec = precision_score(labels, preds, average='weighted')\n",
        "    print(f'Precision score: {model_prec:.2%}')\n",
        "\n",
        "    model_accu = accuracy_score(labels, preds)\n",
        "    print(f'Accuracy score: {model_accu:.2%}')\n",
        "\n",
        "    model_f1 = f1_score(labels, preds, average='macro')\n",
        "    print(f'F1 score: {model_f1:.2%}')\n",
        "\n",
        "    model_roc_auc = roc_auc_score(labels, preds, average='macro')\n",
        "    print(f'ROC AUC score: {model_roc_auc:.2%}')\n",
        "\n",
        "    return preds, probs"
      ],
      "execution_count": 0,
      "outputs": []
    },
    {
      "cell_type": "code",
      "metadata": {
        "id": "ckx4rX9QJSkH",
        "colab_type": "code",
        "colab": {}
      },
      "source": [
        "def confusion_matrix_chart(matrix, name):\n",
        "    sns.heatmap(matrix, annot=True, cmap='Blues', fmt='d', cbar=False)\n",
        "    plt.xlabel('Predicted Labels')\n",
        "    plt.ylabel('Actual Labels')\n",
        "    plt.title(f'{name} Confusion Matrix')"
      ],
      "execution_count": 0,
      "outputs": []
    },
    {
      "cell_type": "code",
      "metadata": {
        "id": "S4Yef5_PKNwv",
        "colab_type": "code",
        "colab": {}
      },
      "source": [
        "def roc_auc_chart(fpr, tpr, name):\n",
        "    fig, ax = plt.subplots()\n",
        "    ax.plot(fpr, tpr)\n",
        "    ax.plot([0, 1], [0, 1], transform=ax.transAxes, ls=\"--\", c=\".3\")\n",
        "    plt.xlim([0.0, 1.0])\n",
        "    plt.ylim([0.0, 1.0])\n",
        "    plt.rcParams['font.size'] = 12\n",
        "    plt.title(f'ROC curve for {model_name}')\n",
        "    plt.xlabel('False Positive Rate')\n",
        "    plt.ylabel('True Positive Rate')\n",
        "    plt.grid(True)"
      ],
      "execution_count": 0,
      "outputs": []
    },
    {
      "cell_type": "markdown",
      "metadata": {
        "id": "ycOtoE0xbaa7",
        "colab_type": "text"
      },
      "source": [
        "### ***Logistic Regression***"
      ]
    },
    {
      "cell_type": "code",
      "metadata": {
        "id": "2ZzwCZShbZdw",
        "colab_type": "code",
        "colab": {}
      },
      "source": [
        "model_name = 'Logistic Regression'\n",
        "model_file = 'LR.pkl'\n",
        "model = LogisticRegression(class_weight=class_weights, solver='lbfgs', max_iter=10000, verbose=1, n_jobs=-1)"
      ],
      "execution_count": 0,
      "outputs": []
    },
    {
      "cell_type": "code",
      "metadata": {
        "id": "xsa0MXxDdexU",
        "colab_type": "code",
        "outputId": "38f8837c-9bc6-4d69-d31d-3fff43c68e94",
        "colab": {
          "base_uri": "https://localhost:8080/",
          "height": 136
        }
      },
      "source": [
        "model.fit(train_data, train_labels)"
      ],
      "execution_count": 66,
      "outputs": [
        {
          "output_type": "stream",
          "text": [
            "[Parallel(n_jobs=-1)]: Using backend LokyBackend with 4 concurrent workers.\n",
            "[Parallel(n_jobs=-1)]: Done   1 out of   1 | elapsed: 64.5min finished\n"
          ],
          "name": "stderr"
        },
        {
          "output_type": "execute_result",
          "data": {
            "text/plain": [
              "LogisticRegression(C=1.0, class_weight=array([0.61516063, 2.67088072]),\n",
              "                   dual=False, fit_intercept=True, intercept_scaling=1,\n",
              "                   l1_ratio=None, max_iter=10000, multi_class='auto', n_jobs=-1,\n",
              "                   penalty='l2', random_state=None, solver='lbfgs', tol=0.0001,\n",
              "                   verbose=1, warm_start=False)"
            ]
          },
          "metadata": {
            "tags": []
          },
          "execution_count": 66
        }
      ]
    },
    {
      "cell_type": "code",
      "metadata": {
        "id": "tr88TSygvTlA",
        "colab_type": "code",
        "colab": {}
      },
      "source": [
        "# Saving and Reloading model\n",
        "joblib.dump(model, MODEL_DIR/model_file)\n",
        "model = joblib.load(MODEL_DIR/model_file)"
      ],
      "execution_count": 0,
      "outputs": []
    },
    {
      "cell_type": "code",
      "metadata": {
        "id": "PjnVYG-wIHoh",
        "colab_type": "code",
        "outputId": "a1753d4d-d400-4ba7-a523-11d0663553c9",
        "colab": {
          "base_uri": "https://localhost:8080/",
          "height": 85
        }
      },
      "source": [
        "val_preds, val_pred_quant = model_predictions(model, val_data, val_labels)"
      ],
      "execution_count": 68,
      "outputs": [
        {
          "output_type": "stream",
          "text": [
            "Precision score: 78.35%\n",
            "Accuracy score: 74.46%\n",
            "F1 score: 63.44%\n",
            "ROC AUC score: 65.91%\n"
          ],
          "name": "stdout"
        }
      ]
    },
    {
      "cell_type": "code",
      "metadata": {
        "id": "DST3rFB_DvqW",
        "colab_type": "code",
        "outputId": "b447df31-b70e-4dd0-ff01-abd7cbf260ab",
        "colab": {
          "base_uri": "https://localhost:8080/",
          "height": 170
        }
      },
      "source": [
        "print(classification_report(val_labels, val_preds))"
      ],
      "execution_count": 69,
      "outputs": [
        {
          "output_type": "stream",
          "text": [
            "              precision    recall  f1-score   support\n",
            "\n",
            "           0       0.88      0.80      0.84     48768\n",
            "           1       0.37      0.52      0.43     11232\n",
            "\n",
            "    accuracy                           0.74     60000\n",
            "   macro avg       0.62      0.66      0.63     60000\n",
            "weighted avg       0.78      0.74      0.76     60000\n",
            "\n"
          ],
          "name": "stdout"
        }
      ]
    },
    {
      "cell_type": "code",
      "metadata": {
        "id": "xyD5AMPxJ_BG",
        "colab_type": "code",
        "outputId": "37f674e2-5169-4536-ff0c-733205dfb9b0",
        "colab": {
          "base_uri": "https://localhost:8080/",
          "height": 301
        }
      },
      "source": [
        "model_cm = confusion_matrix(val_labels, val_preds)\n",
        "confusion_matrix_chart(model_cm, model_name)"
      ],
      "execution_count": 70,
      "outputs": [
        {
          "output_type": "display_data",
          "data": {
            "image/png": "[encoded data removed]",
            "text/plain": [
              "<Figure size 432x288 with 1 Axes>"
            ]
          },
          "metadata": {
            "tags": []
          }
        }
      ]
    },
    {
      "cell_type": "code",
      "metadata": {
        "id": "WZcB3eh2KiX7",
        "colab_type": "code",
        "outputId": "7eb2582a-3085-4c64-9f39-c3b075b8a732",
        "colab": {
          "base_uri": "https://localhost:8080/",
          "height": 301
        }
      },
      "source": [
        "fpr, tpr, threshold = roc_curve(val_labels, val_pred_quant)\n",
        "roc_auc_chart(fpr, tpr, model_name)"
      ],
      "execution_count": 71,
      "outputs": [
        {
          "output_type": "display_data",
          "data": {
            "image/png": "[encoded data removed]",
            "text/plain": [
              "<Figure size 432x288 with 1 Axes>"
            ]
          },
          "metadata": {
            "tags": []
          }
        }
      ]
    },
    {
      "cell_type": "code",
      "metadata": {
        "id": "S-S0O-hFEnQI",
        "colab_type": "code",
        "outputId": "99f9fc93-c54d-4b6f-fd02-f42f2f6630d2",
        "colab": {
          "base_uri": "https://localhost:8080/",
          "height": 34
        }
      },
      "source": [
        "model_auc = auc(fpr, tpr)\n",
        "print(f'Area Under the Curve (AUC): {model_auc:.2%}')"
      ],
      "execution_count": 72,
      "outputs": [
        {
          "output_type": "stream",
          "text": [
            "Area Under the Curve (AUC): 74.24%\n"
          ],
          "name": "stdout"
        }
      ]
    },
    {
      "cell_type": "code",
      "metadata": {
        "id": "8rl_TIVYLXxB",
        "colab_type": "code",
        "colab": {}
      },
      "source": [
        "del model"
      ],
      "execution_count": 0,
      "outputs": []
    },
    {
      "cell_type": "markdown",
      "metadata": {
        "id": "syrmip7DFVxM",
        "colab_type": "text"
      },
      "source": [
        "### ***Random Forest Classifier***"
      ]
    },
    {
      "cell_type": "code",
      "metadata": {
        "id": "DICMIcNvFVNS",
        "colab_type": "code",
        "colab": {}
      },
      "source": [
        "model_name = 'Random Forest Classifier'\n",
        "model_file = 'RFC.pkl'\n",
        "model = RandomForestClassifier(\n",
        "    n_estimators=500, n_jobs=-1, verbose=1,\n",
        "    class_weight={key:value for key, value in enumerate(class_weights)}\n",
        ")"
      ],
      "execution_count": 0,
      "outputs": []
    },
    {
      "cell_type": "code",
      "metadata": {
        "id": "54tUuQXJGcmE",
        "colab_type": "code",
        "outputId": "7a4ba0db-d8d2-4679-97e0-fdce4bbf2f34",
        "colab": {
          "base_uri": "https://localhost:8080/",
          "height": 272
        }
      },
      "source": [
        "model.fit(train_data, train_labels)"
      ],
      "execution_count": 57,
      "outputs": [
        {
          "output_type": "stream",
          "text": [
            "[Parallel(n_jobs=-1)]: Using backend ThreadingBackend with 4 concurrent workers.\n",
            "[Parallel(n_jobs=-1)]: Done  42 tasks      | elapsed:   33.8s\n",
            "[Parallel(n_jobs=-1)]: Done 192 tasks      | elapsed:  2.4min\n",
            "[Parallel(n_jobs=-1)]: Done 442 tasks      | elapsed:  5.5min\n",
            "[Parallel(n_jobs=-1)]: Done 500 out of 500 | elapsed:  6.2min finished\n"
          ],
          "name": "stderr"
        },
        {
          "output_type": "execute_result",
          "data": {
            "text/plain": [
              "RandomForestClassifier(bootstrap=True, ccp_alpha=0.0,\n",
              "                       class_weight={0: 0.6151606338205063,\n",
              "                                     1: 2.6708807229183824},\n",
              "                       criterion='gini', max_depth=None, max_features='auto',\n",
              "                       max_leaf_nodes=None, max_samples=None,\n",
              "                       min_impurity_decrease=0.0, min_impurity_split=None,\n",
              "                       min_samples_leaf=1, min_samples_split=2,\n",
              "                       min_weight_fraction_leaf=0.0, n_estimators=500,\n",
              "                       n_jobs=-1, oob_score=False, random_state=None, verbose=1,\n",
              "                       warm_start=False)"
            ]
          },
          "metadata": {
            "tags": []
          },
          "execution_count": 57
        }
      ]
    },
    {
      "cell_type": "code",
      "metadata": {
        "id": "qn18c1wYGvzO",
        "colab_type": "code",
        "colab": {}
      },
      "source": [
        "# Saving and Reloading model\n",
        "joblib.dump(model, MODEL_DIR/model_file)\n",
        "model = joblib.load(MODEL_DIR/model_file)"
      ],
      "execution_count": 0,
      "outputs": []
    },
    {
      "cell_type": "code",
      "metadata": {
        "id": "m1Nzgh3DLJ1V",
        "colab_type": "code",
        "outputId": "9e12c09f-747d-426b-c415-642077ffd8a6",
        "colab": {
          "base_uri": "https://localhost:8080/",
          "height": 255
        }
      },
      "source": [
        "val_preds, val_pred_quant = model_predictions(model, val_data, val_labels)"
      ],
      "execution_count": 59,
      "outputs": [
        {
          "output_type": "stream",
          "text": [
            "[Parallel(n_jobs=4)]: Using backend ThreadingBackend with 4 concurrent workers.\n",
            "[Parallel(n_jobs=4)]: Done  42 tasks      | elapsed:    0.4s\n",
            "[Parallel(n_jobs=4)]: Done 192 tasks      | elapsed:    1.9s\n",
            "[Parallel(n_jobs=4)]: Done 442 tasks      | elapsed:    4.5s\n",
            "[Parallel(n_jobs=4)]: Done 500 out of 500 | elapsed:    5.1s finished\n",
            "[Parallel(n_jobs=4)]: Using backend ThreadingBackend with 4 concurrent workers.\n",
            "[Parallel(n_jobs=4)]: Done  42 tasks      | elapsed:    0.4s\n",
            "[Parallel(n_jobs=4)]: Done 192 tasks      | elapsed:    2.0s\n",
            "[Parallel(n_jobs=4)]: Done 442 tasks      | elapsed:    4.5s\n"
          ],
          "name": "stderr"
        },
        {
          "output_type": "stream",
          "text": [
            "Precision score: 77.43%\n",
            "Accuracy score: 81.61%\n",
            "F1 score: 51.82%\n",
            "ROC AUC score: 53.26%\n"
          ],
          "name": "stdout"
        },
        {
          "output_type": "stream",
          "text": [
            "[Parallel(n_jobs=4)]: Done 500 out of 500 | elapsed:    5.1s finished\n"
          ],
          "name": "stderr"
        }
      ]
    },
    {
      "cell_type": "code",
      "metadata": {
        "id": "csFv2GvhLNz8",
        "colab_type": "code",
        "outputId": "fe3260a2-984f-4bda-936a-bd8658aedd08",
        "colab": {
          "base_uri": "https://localhost:8080/",
          "height": 170
        }
      },
      "source": [
        "print(classification_report(val_labels, val_preds))"
      ],
      "execution_count": 60,
      "outputs": [
        {
          "output_type": "stream",
          "text": [
            "              precision    recall  f1-score   support\n",
            "\n",
            "           0       0.82      0.99      0.90     48768\n",
            "           1       0.56      0.08      0.14     11232\n",
            "\n",
            "    accuracy                           0.82     60000\n",
            "   macro avg       0.69      0.53      0.52     60000\n",
            "weighted avg       0.77      0.82      0.76     60000\n",
            "\n"
          ],
          "name": "stdout"
        }
      ]
    },
    {
      "cell_type": "code",
      "metadata": {
        "id": "lZFysyWJLRfV",
        "colab_type": "code",
        "outputId": "5a4aa41b-7bfb-4626-9510-74ff4ec11a4a",
        "colab": {
          "base_uri": "https://localhost:8080/",
          "height": 301
        }
      },
      "source": [
        "model_cm = confusion_matrix(val_labels, val_preds)\n",
        "confusion_matrix_chart(model_cm, model_name)"
      ],
      "execution_count": 61,
      "outputs": [
        {
          "output_type": "display_data",
          "data": {
            "image/png": "[encoded data removed]",
            "text/plain": [
              "<Figure size 432x288 with 1 Axes>"
            ]
          },
          "metadata": {
            "tags": []
          }
        }
      ]
    },
    {
      "cell_type": "code",
      "metadata": {
        "id": "qb2MrIW2Lc1k",
        "colab_type": "code",
        "outputId": "2e05a47c-2867-492c-c191-30b94cfc854e",
        "colab": {
          "base_uri": "https://localhost:8080/",
          "height": 301
        }
      },
      "source": [
        "fpr, tpr, threshold = roc_curve(val_labels, val_pred_quant)\n",
        "roc_auc_chart(fpr, tpr, model_name)"
      ],
      "execution_count": 62,
      "outputs": [
        {
          "output_type": "display_data",
          "data": {
            "image/png": "[encoded data removed]",
            "text/plain": [
              "<Figure size 432x288 with 1 Axes>"
            ]
          },
          "metadata": {
            "tags": []
          }
        }
      ]
    },
    {
      "cell_type": "code",
      "metadata": {
        "id": "AE81WEg0Lhue",
        "colab_type": "code",
        "outputId": "b5ad6507-f92e-4e94-e1ca-392ffb268c57",
        "colab": {
          "base_uri": "https://localhost:8080/",
          "height": 34
        }
      },
      "source": [
        "model_auc = auc(fpr, tpr)\n",
        "print(f'Area Under the Curve (AUC): {model_auc:.2%}')"
      ],
      "execution_count": 63,
      "outputs": [
        {
          "output_type": "stream",
          "text": [
            "Area Under the Curve (AUC): 73.83%\n"
          ],
          "name": "stdout"
        }
      ]
    },
    {
      "cell_type": "code",
      "metadata": {
        "id": "Mp5TbmZ1LaQA",
        "colab_type": "code",
        "colab": {}
      },
      "source": [
        "del model"
      ],
      "execution_count": 0,
      "outputs": []
    }
  ]
}